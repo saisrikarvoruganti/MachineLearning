{
 "cells": [
  {
   "cell_type": "markdown",
   "metadata": {},
   "source": [
    "# Number Recognition\n",
    "- step:1-import datascience libraries"
   ]
  },
  {
   "cell_type": "code",
   "execution_count": 1,
   "metadata": {},
   "outputs": [],
   "source": [
    "import numpy as np\n",
    "import pandas as pd\n",
    "import matplotlib.pyplot as plt\n",
    "%matplotlib inline"
   ]
  },
  {
   "cell_type": "markdown",
   "metadata": {},
   "source": [
    "** step-1:Loading Dataset"
   ]
  },
  {
   "cell_type": "code",
   "execution_count": 2,
   "metadata": {},
   "outputs": [],
   "source": [
    "from sklearn.datasets import load_digits"
   ]
  },
  {
   "cell_type": "code",
   "execution_count": 3,
   "metadata": {},
   "outputs": [
    {
     "data": {
      "text/plain": [
       "dict_keys(['data', 'target', 'target_names', 'images', 'DESCR'])"
      ]
     },
     "execution_count": 3,
     "metadata": {},
     "output_type": "execute_result"
    }
   ],
   "source": [
    "digits=load_digits() #which contain dataset\n",
    "digits.keys()"
   ]
  },
  {
   "cell_type": "code",
   "execution_count": 4,
   "metadata": {},
   "outputs": [
    {
     "name": "stdout",
     "output_type": "stream",
     "text": [
      "Optical Recognition of Handwritten Digits Data Set\n",
      "===================================================\n",
      "\n",
      "Notes\n",
      "-----\n",
      "Data Set Characteristics:\n",
      "    :Number of Instances: 5620\n",
      "    :Number of Attributes: 64\n",
      "    :Attribute Information: 8x8 image of integer pixels in the range 0..16.\n",
      "    :Missing Attribute Values: None\n",
      "    :Creator: E. Alpaydin (alpaydin '@' boun.edu.tr)\n",
      "    :Date: July; 1998\n",
      "\n",
      "This is a copy of the test set of the UCI ML hand-written digits datasets\n",
      "http://archive.ics.uci.edu/ml/datasets/Optical+Recognition+of+Handwritten+Digits\n",
      "\n",
      "The data set contains images of hand-written digits: 10 classes where\n",
      "each class refers to a digit.\n",
      "\n",
      "Preprocessing programs made available by NIST were used to extract\n",
      "normalized bitmaps of handwritten digits from a preprinted form. From a\n",
      "total of 43 people, 30 contributed to the training set and different 13\n",
      "to the test set. 32x32 bitmaps are divided into nonoverlapping blocks of\n",
      "4x4 and the number of on pixels are counted in each block. This generates\n",
      "an input matrix of 8x8 where each element is an integer in the range\n",
      "0..16. This reduces dimensionality and gives invariance to small\n",
      "distortions.\n",
      "\n",
      "For info on NIST preprocessing routines, see M. D. Garris, J. L. Blue, G.\n",
      "T. Candela, D. L. Dimmick, J. Geist, P. J. Grother, S. A. Janet, and C.\n",
      "L. Wilson, NIST Form-Based Handprint Recognition System, NISTIR 5469,\n",
      "1994.\n",
      "\n",
      "References\n",
      "----------\n",
      "  - C. Kaynak (1995) Methods of Combining Multiple Classifiers and Their\n",
      "    Applications to Handwritten Digit Recognition, MSc Thesis, Institute of\n",
      "    Graduate Studies in Science and Engineering, Bogazici University.\n",
      "  - E. Alpaydin, C. Kaynak (1998) Cascading Classifiers, Kybernetika.\n",
      "  - Ken Tang and Ponnuthurai N. Suganthan and Xi Yao and A. Kai Qin.\n",
      "    Linear dimensionalityreduction using relevance weighted LDA. School of\n",
      "    Electrical and Electronic Engineering Nanyang Technological University.\n",
      "    2005.\n",
      "  - Claudio Gentile. A New Approximate Maximal Margin Classification\n",
      "    Algorithm. NIPS. 2000.\n",
      "\n"
     ]
    }
   ],
   "source": [
    "print(digits['DESCR'])"
   ]
  },
  {
   "cell_type": "markdown",
   "metadata": {},
   "source": [
    "# step-3:data preprocessing\n",
    "- thresholding(binarizing(max and min))\n",
    "- normalizing(0-1)\n",
    "- extracting dependent and independent variables"
   ]
  },
  {
   "cell_type": "code",
   "execution_count": 5,
   "metadata": {},
   "outputs": [
    {
     "data": {
      "text/plain": [
       "((1797, 64), (1797,))"
      ]
     },
     "execution_count": 5,
     "metadata": {},
     "output_type": "execute_result"
    }
   ],
   "source": [
    "x =digits['data'] #independ\n",
    "y= digits['target'] #dependent(not necessary to maintain a shape)\n",
    "x.shape,y.shape"
   ]
  },
  {
   "cell_type": "code",
   "execution_count": 6,
   "metadata": {},
   "outputs": [
    {
     "data": {
      "text/plain": [
       "0"
      ]
     },
     "execution_count": 6,
     "metadata": {},
     "output_type": "execute_result"
    }
   ],
   "source": [
    "y[0]"
   ]
  },
  {
   "cell_type": "code",
   "execution_count": 7,
   "metadata": {},
   "outputs": [
    {
     "data": {
      "image/png": "[encoded data removed]",
      "text/plain": [
       "<matplotlib.figure.Figure at 0x7fbd82e4ab70>"
      ]
     },
     "metadata": {},
     "output_type": "display_data"
    }
   ],
   "source": [
    "plt.figure(figsize=(3,3))\n",
    "img=x[0:1]\n",
    "plt.imshow(img.reshape((8,8)),cmap='gray')\n",
    "plt.title('number: '+str(y[0]))\n",
    "plt.show()"
   ]
  },
  {
   "cell_type": "markdown",
   "metadata": {},
   "source": [
    "# thresholding\n",
    "> any values greater than 7 replace with max value and if less than 7 replace with min value"
   ]
  },
  {
   "cell_type": "code",
   "execution_count": 8,
   "metadata": {},
   "outputs": [],
   "source": [
    "cond1=x>=7 # find values greater than or equal to 7\n",
    "cond2=x<=7 # find values less than or equal to 7\n",
    "x_t=x.copy() # copy array as x_t\n",
    "x_t[cond1]= x_t.max()  # if cond1 satisfy replace with max\n",
    "x_t[cond2]= x_t.min()  # if cond2 satisfy replace with min"
   ]
  },
  {
   "cell_type": "code",
   "execution_count": 9,
   "metadata": {},
   "outputs": [
    {
     "data": {
      "image/png": "[encoded data removed]",
      "text/plain": [
       "<matplotlib.figure.Figure at 0x7fbd830c9ac8>"
      ]
     },
     "metadata": {},
     "output_type": "display_data"
    }
   ],
   "source": [
    "plt.figure(figsize=(2,2))\n",
    "img=x_t[0:1]\n",
    "plt.imshow(img.reshape((8,8)),cmap='gray')\n",
    "plt.title('number: '+str(y[0]))\n",
    "plt.show()"
   ]
  },
  {
   "cell_type": "code",
   "execution_count": 10,
   "metadata": {},
   "outputs": [],
   "source": [
    "x_t=x_t/x_t.max() # normalizing(0-1)"
   ]
  },
  {
   "cell_type": "code",
   "execution_count": 11,
   "metadata": {},
   "outputs": [
    {
     "name": "stderr",
     "output_type": "stream",
     "text": [
      "/home/saisrikar/anaconda3/lib/python3.6/site-packages/sklearn/cross_validation.py:41: DeprecationWarning: This module was deprecated in version 0.18 in favor of the model_selection module into which all the refactored classes and functions are moved. Also note that the interface of the new CV iterators are different from that of this module. This module will be removed in 0.20.\n",
      "  \"This module will be removed in 0.20.\", DeprecationWarning)\n"
     ]
    }
   ],
   "source": [
    "from sklearn.cross_validation import train_test_split\n",
    "x_train,x_test,y_train,y_test=train_test_split(x_t,y,test_size=0.2,random_state=0)"
   ]
  },
  {
   "cell_type": "code",
   "execution_count": 12,
   "metadata": {},
   "outputs": [
    {
     "data": {
      "text/plain": [
       "((1437, 64), (360, 64), (1437,), (360,))"
      ]
     },
     "execution_count": 12,
     "metadata": {},
     "output_type": "execute_result"
    }
   ],
   "source": [
    "x_train.shape,x_test.shape,y_train.shape,y_test.shape"
   ]
  },
  {
   "cell_type": "markdown",
   "metadata": {},
   "source": [
    "> **step:7-Building machine learning model**\n",
    "- Logistic regression,KNearestNeighbour,Support Vector Machine,Decision Tree, Random Forest"
   ]
  },
  {
   "cell_type": "code",
   "execution_count": 13,
   "metadata": {},
   "outputs": [],
   "source": [
    "from sklearn.linear_model import LogisticRegression\n",
    "from sklearn.neighbors import  KNeighborsClassifier\n",
    "from sklearn.svm import SVC\n",
    "from sklearn.tree import DecisionTreeClassifier\n",
    "from sklearn.ensemble import RandomForestClassifier"
   ]
  },
  {
   "cell_type": "code",
   "execution_count": 14,
   "metadata": {},
   "outputs": [],
   "source": [
    "model_log = LogisticRegression(C=10.0) # creating lr model\n",
    "model_knn = KNeighborsClassifier(n_neighbors=3)\n",
    "model_svm = SVC(C=10.0,kernel='rbf')\n",
    "model_dt =DecisionTreeClassifier()\n",
    "model_rf = RandomForestClassifier(n_estimators=100) "
   ]
  },
  {
   "cell_type": "markdown",
   "metadata": {},
   "source": [
    "# Training Model"
   ]
  },
  {
   "cell_type": "code",
   "execution_count": 15,
   "metadata": {},
   "outputs": [
    {
     "name": "stdout",
     "output_type": "stream",
     "text": [
      "models trained succesfully!!!\n"
     ]
    }
   ],
   "source": [
    "model_log.fit(x_train,y_train)\n",
    "model_knn.fit(x_train,y_train)\n",
    "model_svm.fit(x_train,y_train)\n",
    "model_dt.fit(x_train,y_train)\n",
    "model_rf.fit(x_train,y_train)\n",
    "print('models trained succesfully!!!')"
   ]
  },
  {
   "cell_type": "markdown",
   "metadata": {},
   "source": [
    "\n",
    "\n",
    "> step:8-Model Evaluation\n",
    "- confusion matrix\n",
    "- classification model"
   ]
  },
  {
   "cell_type": "code",
   "execution_count": 16,
   "metadata": {},
   "outputs": [],
   "source": [
    "y_pred_log=model_log.predict(x_test)\n",
    "y_pred_knn=model_knn.predict(x_test)\n",
    "y_pred_svm=model_svm.predict(x_test)\n",
    "y_pred_dt=model_dt.predict(x_test)\n",
    "y_pred_rf=model_rf.predict(x_test)"
   ]
  },
  {
   "cell_type": "code",
   "execution_count": 17,
   "metadata": {},
   "outputs": [],
   "source": [
    "from sklearn.metrics import confusion_matrix,classification_report"
   ]
  },
  {
   "cell_type": "code",
   "execution_count": 18,
   "metadata": {},
   "outputs": [],
   "source": [
    "cm_log = confusion_matrix(y_test,y_pred_log)\n",
    "cm_knn = confusion_matrix(y_test,y_pred_knn)\n",
    "cm_svm = confusion_matrix(y_test,y_pred_svm)\n",
    "cm_dt = confusion_matrix(y_test,y_pred_dt)\n",
    "cm_rf = confusion_matrix(y_test,y_pred_rf)"
   ]
  },
  {
   "cell_type": "code",
   "execution_count": 19,
   "metadata": {},
   "outputs": [
    {
     "data": {
      "text/plain": [
       "array([[27,  0,  0,  0,  0,  0,  0,  0,  0,  0],\n",
       "       [ 0, 30,  1,  0,  1,  1,  0,  0,  1,  1],\n",
       "       [ 0,  0, 34,  1,  0,  0,  0,  0,  0,  1],\n",
       "       [ 0,  0,  0, 26,  0,  1,  0,  0,  0,  2],\n",
       "       [ 0,  1,  0,  0, 28,  0,  0,  1,  0,  0],\n",
       "       [ 0,  0,  0,  0,  2, 36,  0,  0,  0,  2],\n",
       "       [ 0,  0,  0,  0,  1,  0, 43,  0,  0,  0],\n",
       "       [ 0,  0,  0,  0,  1,  0,  0, 37,  0,  1],\n",
       "       [ 0,  4,  1,  1,  1,  0,  2,  0, 30,  0],\n",
       "       [ 0,  0,  0,  0,  0,  1,  0,  0,  2, 38]])"
      ]
     },
     "execution_count": 19,
     "metadata": {},
     "output_type": "execute_result"
    }
   ],
   "source": [
    "cm_log"
   ]
  },
  {
   "cell_type": "code",
   "execution_count": 20,
   "metadata": {},
   "outputs": [],
   "source": [
    "import seaborn as sm"
   ]
  },
  {
   "cell_type": "code",
   "execution_count": 21,
   "metadata": {},
   "outputs": [
    {
     "data": {
      "image/png": "[encoded data removed]",
      "text/plain": [
       "<matplotlib.figure.Figure at 0x7fbd7ce6acf8>"
      ]
     },
     "metadata": {},
     "output_type": "display_data"
    },
    {
     "data": {
      "image/png": "[encoded data removed]",
      "text/plain": [
       "<matplotlib.figure.Figure at 0x7fbd7699d320>"
      ]
     },
     "metadata": {},
     "output_type": "display_data"
    },
    {
     "data": {
      "image/png": "[encoded data removed]",
      "text/plain": [
       "<matplotlib.figure.Figure at 0x7fbd75066fd0>"
      ]
     },
     "metadata": {},
     "output_type": "display_data"
    },
    {
     "data": {
      "image/png": "[encoded data removed]",
      "text/plain": [
       "<matplotlib.figure.Figure at 0x7fbd82f89ac8>"
      ]
     },
     "metadata": {},
     "output_type": "display_data"
    },
    {
     "data": {
      "image/png": "[encoded data removed]",
      "text/plain": [
       "<matplotlib.figure.Figure at 0x7fbd751610f0>"
      ]
     },
     "metadata": {},
     "output_type": "display_data"
    }
   ],
   "source": [
    "plt.figure(figsize=(8,6))\n",
    "sm.heatmap(cm_log,annot=True,cmap='summer')\n",
    "plt.title('Logistic Regression')\n",
    "plt.show()\n",
    "\n",
    "plt.figure(figsize=(8,6))\n",
    "sm.heatmap(cm_knn,annot=True,cmap='gnuplot')\n",
    "plt.title('KNearest Neighbors')\n",
    "plt.show()\n",
    "\n",
    "plt.figure(figsize=(8,6))\n",
    "sm.heatmap(cm_svm,annot=True,cmap='Paired')\n",
    "plt.title('Support Vector Machine')\n",
    "plt.show()\n",
    "\n",
    "plt.figure(figsize=(8,6))\n",
    "sm.heatmap(cm_dt,annot=True,cmap='ocean')\n",
    "plt.title('Decision Tree')\n",
    "plt.show()\n",
    "\n",
    "plt.figure(figsize=(8,6))\n",
    "sm.heatmap(cm_rf,annot=True,cmap='prism')\n",
    "plt.title('Random Forest')\n",
    "plt.show()\n",
    "\n",
    "\n",
    "\n"
   ]
  },
  {
   "cell_type": "code",
   "execution_count": 22,
   "metadata": {},
   "outputs": [
    {
     "name": "stdout",
     "output_type": "stream",
     "text": [
      "\n",
      "====================Logistic Regression====================\n",
      "\n",
      "             precision    recall  f1-score   support\n",
      "\n",
      "          0       1.00      1.00      1.00        27\n",
      "          1       0.86      0.86      0.86        35\n",
      "          2       0.94      0.94      0.94        36\n",
      "          3       0.93      0.90      0.91        29\n",
      "          4       0.82      0.93      0.87        30\n",
      "          5       0.92      0.90      0.91        40\n",
      "          6       0.96      0.98      0.97        44\n",
      "          7       0.97      0.95      0.96        39\n",
      "          8       0.91      0.77      0.83        39\n",
      "          9       0.84      0.93      0.88        41\n",
      "\n",
      "avg / total       0.92      0.91      0.91       360\n",
      "\n",
      "\n",
      "====================KNearest neighbor====================\n",
      "\n",
      "             precision    recall  f1-score   support\n",
      "\n",
      "          0       0.96      1.00      0.98        27\n",
      "          1       0.75      0.94      0.84        35\n",
      "          2       1.00      1.00      1.00        36\n",
      "          3       0.90      0.93      0.92        29\n",
      "          4       0.97      0.93      0.95        30\n",
      "          5       0.93      0.93      0.93        40\n",
      "          6       0.96      1.00      0.98        44\n",
      "          7       0.97      1.00      0.99        39\n",
      "          8       0.96      0.69      0.81        39\n",
      "          9       0.92      0.88      0.90        41\n",
      "\n",
      "avg / total       0.93      0.93      0.93       360\n",
      "\n",
      "\n",
      "====================Support Vector Machine====================\n",
      "\n",
      "             precision    recall  f1-score   support\n",
      "\n",
      "          0       1.00      1.00      1.00        27\n",
      "          1       0.86      0.91      0.89        35\n",
      "          2       0.95      0.97      0.96        36\n",
      "          3       0.93      0.97      0.95        29\n",
      "          4       0.91      0.97      0.94        30\n",
      "          5       0.95      0.93      0.94        40\n",
      "          6       0.98      0.98      0.98        44\n",
      "          7       0.97      0.97      0.97        39\n",
      "          8       0.97      0.77      0.86        39\n",
      "          9       0.91      0.98      0.94        41\n",
      "\n",
      "avg / total       0.94      0.94      0.94       360\n",
      "\n",
      "\n",
      "====================Decision Tree====================\n",
      "\n",
      "             precision    recall  f1-score   support\n",
      "\n",
      "          0       0.92      0.89      0.91        27\n",
      "          1       0.78      0.89      0.83        35\n",
      "          2       0.82      0.75      0.78        36\n",
      "          3       0.76      0.86      0.81        29\n",
      "          4       0.96      0.83      0.89        30\n",
      "          5       0.97      0.82      0.89        40\n",
      "          6       0.91      0.91      0.91        44\n",
      "          7       0.92      0.92      0.92        39\n",
      "          8       0.70      0.72      0.71        39\n",
      "          9       0.80      0.88      0.84        41\n",
      "\n",
      "avg / total       0.85      0.85      0.85       360\n",
      "\n",
      "\n",
      "====================Random forest====================\n",
      "\n",
      "             precision    recall  f1-score   support\n",
      "\n",
      "          0       1.00      1.00      1.00        27\n",
      "          1       0.85      0.97      0.91        35\n",
      "          2       1.00      1.00      1.00        36\n",
      "          3       1.00      1.00      1.00        29\n",
      "          4       0.97      0.93      0.95        30\n",
      "          5       0.95      0.90      0.92        40\n",
      "          6       0.98      1.00      0.99        44\n",
      "          7       0.97      1.00      0.99        39\n",
      "          8       1.00      0.82      0.90        39\n",
      "          9       0.91      0.98      0.94        41\n",
      "\n",
      "avg / total       0.96      0.96      0.96       360\n",
      "\n"
     ]
    }
   ],
   "source": [
    "cr_log = classification_report(y_test,y_pred_log)\n",
    "print('\\n'+'='*20+'Logistic Regression'+\"=\"*20+'\\n')\n",
    "print(cr_log)\n",
    "\n",
    "cr_knn = classification_report(y_test,y_pred_knn)\n",
    "print('\\n'+'='*20+'KNearest neighbor'+\"=\"*20+'\\n')\n",
    "print(cr_knn)\n",
    "\n",
    "cr_svm = classification_report(y_test,y_pred_svm)\n",
    "print('\\n'+'='*20+'Support Vector Machine'+\"=\"*20+'\\n')\n",
    "print(cr_svm)\n",
    "\n",
    "cr_dt = classification_report(y_test,y_pred_dt)\n",
    "print('\\n'+'='*20+'Decision Tree'+\"=\"*20+'\\n')\n",
    "print(cr_dt)\n",
    "\n",
    "cr_rf = classification_report(y_test,y_pred_rf)\n",
    "print('\\n'+'='*20+'Random forest'+\"=\"*20+'\\n')\n",
    "print(cr_rf)\n"
   ]
  },
  {
   "cell_type": "markdown",
   "metadata": {},
   "source": [
    "# test your model"
   ]
  },
  {
   "cell_type": "code",
   "execution_count": 23,
   "metadata": {},
   "outputs": [],
   "source": [
    "import cv2"
   ]
  },
  {
   "cell_type": "code",
   "execution_count": 26,
   "metadata": {},
   "outputs": [
    {
     "data": {
      "image/png": "[encoded data removed]",
      "text/plain": [
       "<matplotlib.figure.Figure at 0x7fbd64186400>"
      ]
     },
     "metadata": {},
     "output_type": "display_data"
    }
   ],
   "source": [
    "#step-1:read and convert into gray scale\n",
    "img=cv2.imread('/home/saisrikar/Pictures/index.png',0)\n",
    "#step-2:resize image to 8x8\n",
    "img_re=cv2.resize(img,(8,8))\n",
    "#step-3:inverse thresholding\n",
    "ret,thresh=cv2.threshold(img_re,127,255,cv2.THRESH_BINARY_INV)\n",
    "#step-4:normalizing(0-1)\n",
    "test=thresh/255.0\n",
    "#step-5:reshape(1,64)\n",
    "test=test.reshape((1,64))\n",
    "plt.imshow(test,cmap='gray')\n",
    "plt.show()"
   ]
  },
  {
   "cell_type": "code",
   "execution_count": 27,
   "metadata": {},
   "outputs": [
    {
     "name": "stdout",
     "output_type": "stream",
     "text": [
      "prediction with random forest: [1]\n"
     ]
    }
   ],
   "source": [
    "print('prediction with random forest:',model_rf.predict(test))"
   ]
  },
  {
   "cell_type": "markdown",
   "metadata": {},
   "source": []
  },
  {
   "cell_type": "code",
   "execution_count": 33,
   "metadata": {},
   "outputs": [
    {
     "ename": "IndentationError",
     "evalue": "unindent does not match any outer indentation level (<tokenize>, line 37)",
     "output_type": "error",
     "traceback": [
      "\u001b[0;36m  File \u001b[0;32m\"<tokenize>\"\u001b[0;36m, line \u001b[0;32m37\u001b[0m\n\u001b[0;31m    cv2.imshow('orginal',img)\u001b[0m\n\u001b[0m    ^\u001b[0m\n\u001b[0;31mIndentationError\u001b[0m\u001b[0;31m:\u001b[0m unindent does not match any outer indentation level\n"
     ]
    }
   ],
   "source": [
    "cap = cv2.VideoCapture(0)\n",
    "\n",
    "while True:\n",
    "    _,img = cap.read()\n",
    "    gray = cv2.cvtColor(img,cv2.COLOR_BGR2GRAY)\n",
    "    blur = cv2.GaussianBlur(gray, (7,7),3)\n",
    "    _,th3 = cv2.threshold(gray,100,255,cv2.THRESH_BINARY_INV)\n",
    "    th3 = cv2.adaptiveThreshold(blur,255,cv2.ADAPTIVE_THRESH_GAUSSIAN_C,cv2.THRESH_BINARY_INV,21,7)\n",
    "    im2, contours, hierarchy = cv2.findContours(th3,cv2.RETR_TREE,cv2.CHAIN_APPROX_SIMPLE)\n",
    "    areas = [cv2.contourArea(c) for c in contours]\n",
    "    ix = np.where(np.array(areas) > 300)[0]\n",
    "    result = np.array([1,0,0,0,0,0,0,0,0,0])\n",
    "    for i in ix:\n",
    "        cnt = contours[i]\n",
    "        xr,yr,wr,hr = cv2.boundingRect(cnt)\n",
    "        if xr< 20 :\n",
    "            xr = 25\n",
    "\n",
    "\n",
    "        if yr < 20:\n",
    "            yr = 25\n",
    "\n",
    "\n",
    "        cv2.rectangle(img,(xr-10,yr-10),(xr+wr+10,yr+hr+10), (0,255,0),2)\n",
    "        roi = th3[yr-20:yr+hr+20, xr-20:xr+wr+20]\n",
    "        \n",
    "        roi_re=cv2.resize(roi,(8,8))\n",
    "        g = roi_re.reshape(1,64).astype('float32')\n",
    "        g = g/255\n",
    "        result=  model_rf.predict(g)\n",
    "        #print(result)\n",
    "        font = cv2.FONT_HERSHEY_SIMPLEX\n",
    "        cv2.putText(img,'Number: '+str(result),(xr-10,yr-10), font, 0.4, (255,0,0), 1, cv2.LINE_AA)\n",
    "\n",
    "\n",
    "    cv2.imshow('Threshold',th3)\n",
    "   cv2.imshow('orginal',img)\n",
    "\n",
    "    if cv2.waitKey(41) & 0xff == ord('q'):\n",
    "        break\n",
    "        \n",
    "    \n",
    "    \n",
    "cap.release()    \n",
    "cv2.destroyAllWindows()"
   ]
  },
  {
   "cell_type": "code",
   "execution_count": 34,
   "metadata": {},
   "outputs": [
    {
     "ename": "error",
     "evalue": "OpenCV(3.4.1) /opt/conda/conda-bld/opencv-suite_1527005194613/work/modules/highgui/src/window.cpp:630: error: (-2) The function is not implemented. Rebuild the library with Windows, GTK+ 2.x or Carbon support. If you are on Ubuntu or Debian, install libgtk2.0-dev and pkg-config, then re-run cmake or configure script in function cvDestroyAllWindows\n",
     "output_type": "error",
     "traceback": [
      "\u001b[0;31m---------------------------------------------------------------------------\u001b[0m",
      "\u001b[0;31merror\u001b[0m                                     Traceback (most recent call last)",
      "\u001b[0;32m<ipython-input-34-1c36f6662a14>\u001b[0m in \u001b[0;36m<module>\u001b[0;34m()\u001b[0m\n\u001b[1;32m      1\u001b[0m \u001b[0mcap\u001b[0m\u001b[0;34m.\u001b[0m\u001b[0mrelease\u001b[0m\u001b[0;34m(\u001b[0m\u001b[0;34m)\u001b[0m\u001b[0;34m\u001b[0m\u001b[0m\n\u001b[0;32m----> 2\u001b[0;31m \u001b[0mcv2\u001b[0m\u001b[0;34m.\u001b[0m\u001b[0mdestroyAllWindows\u001b[0m\u001b[0;34m(\u001b[0m\u001b[0;34m)\u001b[0m\u001b[0;34m\u001b[0m\u001b[0m\n\u001b[0m",
      "\u001b[0;31merror\u001b[0m: OpenCV(3.4.1) /opt/conda/conda-bld/opencv-suite_1527005194613/work/modules/highgui/src/window.cpp:630: error: (-2) The function is not implemented. Rebuild the library with Windows, GTK+ 2.x or Carbon support. If you are on Ubuntu or Debian, install libgtk2.0-dev and pkg-config, then re-run cmake or configure script in function cvDestroyAllWindows\n"
     ]
    }
   ],
   "source": [
    "cap.release()    \n",
    "cv2.destroyAllWindows()"
   ]
  },
  {
   "cell_type": "code",
   "execution_count": null,
   "metadata": {},
   "outputs": [],
   "source": []
  }
 ],
 "metadata": {
  "kernelspec": {
   "display_name": "Python 3",
   "language": "python",
   "name": "python3"
  },
  "language_info": {
   "codemirror_mode": {
    "name": "ipython",
    "version": 3
   },
   "file_extension": ".py",
   "mimetype": "text/x-python",
   "name": "python",
   "nbconvert_exporter": "python",
   "pygments_lexer": "ipython3",
   "version": "3.6.4"
  }
 },
 "nbformat": 4,
 "nbformat_minor": 2
}

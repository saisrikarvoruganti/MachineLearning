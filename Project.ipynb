{
 "cells": [
  {
   "cell_type": "markdown",
   "metadata": {},
   "source": [
    "# Rotten Tomatoes Movie Review"
   ]
  },
  {
   "cell_type": "code",
   "execution_count": 1,
   "metadata": {},
   "outputs": [],
   "source": [
    "import numpy as np\n",
    "import pandas as pd\n",
    "import nltk # natural langurage tool kit\n",
    "import re # regualr expressions\n",
    "from nltk.corpus import stopwords "
   ]
  },
  {
   "cell_type": "code",
   "execution_count": 2,
   "metadata": {},
   "outputs": [],
   "source": [
    "from nltk.stem import PorterStemmer"
   ]
  },
  {
   "cell_type": "code",
   "execution_count": 3,
   "metadata": {},
   "outputs": [],
   "source": [
    "stop = stopwords.words('english')\n",
    "stop.remove('not') # in sentiment analyis this not stop word\n",
    "#stop.append('srikanth') # you customize stopwords like this"
   ]
  },
  {
   "cell_type": "markdown",
   "metadata": {},
   "source": [
    "**Step -1 : Load Dataset**"
   ]
  },
  {
   "cell_type": "code",
   "execution_count": 4,
   "metadata": {},
   "outputs": [],
   "source": [
    "dataset = pd.read_csv('train_new.tsv',delimiter='\\t',encoding='latin-1')"
   ]
  },
  {
   "cell_type": "code",
   "execution_count": 5,
   "metadata": {},
   "outputs": [
    {
     "data": {
      "text/html": [
       "<div>\n",
       "<style scoped>\n",
       "    .dataframe tbody tr th:only-of-type {\n",
       "        vertical-align: middle;\n",
       "    }\n",
       "\n",
       "    .dataframe tbody tr th {\n",
       "        vertical-align: top;\n",
       "    }\n",
       "\n",
       "    .dataframe thead th {\n",
       "        text-align: right;\n",
       "    }\n",
       "</style>\n",
       "<table border=\"1\" class=\"dataframe\">\n",
       "  <thead>\n",
       "    <tr style=\"text-align: right;\">\n",
       "      <th></th>\n",
       "      <th>Unnamed: 0</th>\n",
       "      <th>PhraseId</th>\n",
       "      <th>SentenceId</th>\n",
       "      <th>Phrase</th>\n",
       "      <th>Sentiment</th>\n",
       "    </tr>\n",
       "  </thead>\n",
       "  <tbody>\n",
       "    <tr>\n",
       "      <th>0</th>\n",
       "      <td>0</td>\n",
       "      <td>1</td>\n",
       "      <td>1</td>\n",
       "      <td>A series of escapades demonstrating the adage ...</td>\n",
       "      <td>1</td>\n",
       "    </tr>\n",
       "    <tr>\n",
       "      <th>1</th>\n",
       "      <td>63</td>\n",
       "      <td>64</td>\n",
       "      <td>2</td>\n",
       "      <td>This quiet , introspective and entertaining in...</td>\n",
       "      <td>4</td>\n",
       "    </tr>\n",
       "    <tr>\n",
       "      <th>2</th>\n",
       "      <td>81</td>\n",
       "      <td>82</td>\n",
       "      <td>3</td>\n",
       "      <td>Even fans of Ismail Merchant 's work , I suspe...</td>\n",
       "      <td>1</td>\n",
       "    </tr>\n",
       "    <tr>\n",
       "      <th>3</th>\n",
       "      <td>116</td>\n",
       "      <td>117</td>\n",
       "      <td>4</td>\n",
       "      <td>A positively thrilling combination of ethnogra...</td>\n",
       "      <td>3</td>\n",
       "    </tr>\n",
       "    <tr>\n",
       "      <th>4</th>\n",
       "      <td>156</td>\n",
       "      <td>157</td>\n",
       "      <td>5</td>\n",
       "      <td>Aggressive self-glorification and a manipulati...</td>\n",
       "      <td>1</td>\n",
       "    </tr>\n",
       "  </tbody>\n",
       "</table>\n",
       "</div>"
      ],
      "text/plain": [
       "   Unnamed: 0  PhraseId  SentenceId  \\\n",
       "0           0         1           1   \n",
       "1          63        64           2   \n",
       "2          81        82           3   \n",
       "3         116       117           4   \n",
       "4         156       157           5   \n",
       "\n",
       "                                              Phrase  Sentiment  \n",
       "0  A series of escapades demonstrating the adage ...          1  \n",
       "1  This quiet , introspective and entertaining in...          4  \n",
       "2  Even fans of Ismail Merchant 's work , I suspe...          1  \n",
       "3  A positively thrilling combination of ethnogra...          3  \n",
       "4  Aggressive self-glorification and a manipulati...          1  "
      ]
     },
     "execution_count": 5,
     "metadata": {},
     "output_type": "execute_result"
    }
   ],
   "source": [
    "dataset.head()"
   ]
  },
  {
   "cell_type": "markdown",
   "metadata": {},
   "source": [
    "** Step -2 : Cleaning text , steming, removing stopwords**"
   ]
  },
  {
   "cell_type": "code",
   "execution_count": 6,
   "metadata": {},
   "outputs": [
    {
     "name": "stdout",
     "output_type": "stream",
     "text": [
      "<class 'pandas.core.frame.DataFrame'>\n",
      "RangeIndex: 2627 entries, 0 to 2626\n",
      "Data columns (total 5 columns):\n",
      "Unnamed: 0    2627 non-null int64\n",
      "PhraseId      2627 non-null int64\n",
      "SentenceId    2627 non-null int64\n",
      "Phrase        2627 non-null object\n",
      "Sentiment     2627 non-null int64\n",
      "dtypes: int64(4), object(1)\n",
      "memory usage: 102.7+ KB\n"
     ]
    }
   ],
   "source": [
    "dataset.info()"
   ]
  },
  {
   "cell_type": "code",
   "execution_count": 7,
   "metadata": {},
   "outputs": [],
   "source": [
    "text = dataset['Phrase']"
   ]
  },
  {
   "cell_type": "code",
   "execution_count": 8,
   "metadata": {},
   "outputs": [
    {
     "data": {
      "text/plain": [
       "0       A series of escapades demonstrating the adage ...\n",
       "1       This quiet , introspective and entertaining in...\n",
       "2       Even fans of Ismail Merchant 's work , I suspe...\n",
       "3       A positively thrilling combination of ethnogra...\n",
       "4       Aggressive self-glorification and a manipulati...\n",
       "5       A comedy-drama of nearly epic proportions root...\n",
       "6       Narratively , Trouble Every Day is a plodding ...\n",
       "7       The Importance of Being Earnest , so thick wit...\n",
       "8                   But it does n't leave you with much .\n",
       "9                 You could hate it for the same reason .\n",
       "10      There 's little to recommend Snow Dogs , unles...\n",
       "11      Kung Pow is Oedekerk 's realization of his chi...\n",
       "12                 The performances are an absolute joy .\n",
       "13      Fresnadillo has something serious to say about...\n",
       "14      I still like Moonlight Mile , better judgment ...\n",
       "15      A welcome relief from baseball movies that try...\n",
       "16      a bilingual charmer , just like the woman who ...\n",
       "17      Like a less dizzily gorgeous companion to Mr. ...\n",
       "18      As inept as big-screen remakes of The Avengers...\n",
       "19      It 's everything you 'd expect -- but nothing ...\n",
       "20                      Best indie of the year , so far .\n",
       "21      Hatfield and Hicks make the oddest of couples ...\n",
       "22      It 's like going to a house party and watching...\n",
       "23      That the Chuck Norris `` grenade gag '' occurs...\n",
       "24      The plot is romantic comedy boilerplate from s...\n",
       "25      It arrives with an impeccable pedigree , mongr...\n",
       "26      A film that clearly means to preach exclusivel...\n",
       "27      While The Importance of Being Earnest offers o...\n",
       "28      The latest vapid actor 's exercise to appropri...\n",
       "29      More vaudeville show than well-constructed nar...\n",
       "                              ...                        \n",
       "2597    Despite an overwrought ending , the film works...\n",
       "2598    Cinematic pyrotechnics aside , the only thing ...\n",
       "2599    The good is very , very good ... The rest runs...\n",
       "2600    Watching these two actors play against each ot...\n",
       "2601    What 's the most positive thing that can be sa...\n",
       "2602    Too infuriatingly quirky and taken with its ow...\n",
       "2603    Watching Queen of the Damned is like reading a...\n",
       "2604    Adam Sandler 's Eight Crazy Nights grows on yo...\n",
       "2605    The actresses may have worked up a back story ...\n",
       "2606    A complex psychological drama about a father w...\n",
       "2607    The movie is so contrived , nonsensical and fo...\n",
       "2608    A minor film with major pleasures from Portugu...\n",
       "2609    For VeggieTales fans , this is more appetizing...\n",
       "2610    If the real-life story is genuinely inspiratio...\n",
       "2611    -LRB- Gayton 's script -RRB- telegraphs every ...\n",
       "2612    No , it 's not as single-minded as John Carpen...\n",
       "2613    This starts off with a 1950 's Doris Day feel ...\n",
       "2614    Blessed with two fine , nuanced lead performan...\n",
       "2615                                       What 's next ?\n",
       "2616    If you 're paying attention , the `` big twist...\n",
       "2617        If you 're a comic fan , you ca n't miss it .\n",
       "2618    Earnest and heartfelt but undernourished and p...\n",
       "2619    Fairy-tale formula , serves as a paper skeleto...\n",
       "2620                    Pipe Dream does have its charms .\n",
       "2621    What could have been a pointed little chiller ...\n",
       "2622    Brosnan is more feral in this film than I 've ...\n",
       "2623    Director Carl Franklin , so crisp and economic...\n",
       "2624    A thoughtful , reverent portrait of what is es...\n",
       "2625    But ticket-buyers with great expectations will...\n",
       "2626    From its nauseating spinning credits sequence ...\n",
       "Name: Phrase, Length: 2627, dtype: object"
      ]
     },
     "execution_count": 8,
     "metadata": {},
     "output_type": "execute_result"
    }
   ],
   "source": [
    "review = text\n",
    "review"
   ]
  },
  {
   "cell_type": "code",
   "execution_count": 9,
   "metadata": {},
   "outputs": [],
   "source": [
    "data = []\n",
    "for i in range(len(dataset)):\n",
    "    review = text[i] # change into i\n",
    "    # step -1: converting letter into lower case\n",
    "    review = review.lower()\n",
    "    # step -2: removing special character and numerics\n",
    "    review = re.sub('[^a-z]',' ',review)\n",
    "    # step -3: convert sentence into list of words -> tokens\n",
    "    review = review.split()\n",
    "    # step -4: Stemming(extracting root word) and removing stopwords\n",
    "    ps = PorterStemmer()\n",
    "    review = [ps.stem(word) for word in review if not word in set(stop)]\n",
    "    review = ' '.join(review)# step 5: joining words \n",
    "    data.append(review) # appending data\n",
    "    "
   ]
  },
  {
   "cell_type": "markdown",
   "metadata": {},
   "source": [
    "**Step- 3 : Bag of word model**\n",
    "- CountVectorization"
   ]
  },
  {
   "cell_type": "code",
   "execution_count": 10,
   "metadata": {},
   "outputs": [],
   "source": [
    "from sklearn.feature_extraction.text import CountVectorizer"
   ]
  },
  {
   "cell_type": "code",
   "execution_count": 11,
   "metadata": {},
   "outputs": [],
   "source": [
    "cv = CountVectorizer()"
   ]
  },
  {
   "cell_type": "code",
   "execution_count": 12,
   "metadata": {},
   "outputs": [],
   "source": [
    "# Converting words into numbers (Word Embedding)\n",
    "X = cv.fit_transform(data).toarray() # all the clean stentence are in my data\n",
    "y = dataset['Sentiment'].values "
   ]
  },
  {
   "cell_type": "code",
   "execution_count": 13,
   "metadata": {},
   "outputs": [
    {
     "name": "stdout",
     "output_type": "stream",
     "text": [
      "6078\n",
      "['aaliyah', 'abandon', 'abel', 'abhorr', 'abil', 'abl', 'abort', 'abound', 'abridg', 'abrupt', 'absolut', 'absorb', 'absorpt', 'abstract', 'absurd', 'absurdist', 'absurdli', 'abund', 'abus', 'academ', 'academi', 'accent', 'accept', 'access', 'accompani', 'accomplish', 'account', 'accumul', 'accur', 'ach', 'achero', 'achiev', 'achingli', 'acid', 'ackerman', 'acknowledg', 'acquaint', 'acquir', 'acrid', 'across', 'act', 'action', 'activ', 'activist', 'actor', 'actorish', 'actress', 'actual', 'acumen', 'acut', 'ad', 'adag', 'adam', 'adapt', 'add', 'addict', 'addit', 'address', 'adequ', 'adject', 'adjust', 'admir', 'admiss', 'admit', 'admittedli', 'adolesc', 'ador', 'adren', 'adrenalin', 'adrien', 'adrift', 'adult', 'advanc', 'advantag', 'adventu', 'adventur', 'advert', 'advic', 'aesop', 'aesthet', 'affabl', 'affair', 'affect', 'affection', 'affirm', 'affleck', 'aficionado', 'afloat', 'african', 'afterlif', 'afternoon', 'aftertast', 'age', 'agenda', 'agent', 'ager', 'aggress', 'agil', 'agit', 'ago', 'agre', 'ah', 'ahead', 'ahem', 'ai', 'aid', 'aim', 'aimless', 'air', 'airhead', 'airi', 'airless', 'akin', 'ala', 'alabama', 'alacr', 'aladdin', 'alain', 'albeit', 'alert', 'alexand', 'alfr', 'alia', 'alic', 'alien', 'alik', 'aliv', 'allegedli', 'allegori', 'allen', 'alli', 'allow', 'allur', 'allus', 'almost', 'alon', 'along', 'aloof', 'alreadi', 'also', 'alt', 'altar', 'alter', 'altern', 'although', 'altogeth', 'alway', 'amaro', 'amass', 'amateurish', 'amateurishli', 'amaz', 'amazingli', 'ambigu', 'ambit', 'ambiti', 'amc', 'america', 'american', 'ami', 'amiabl', 'amid', 'amini', 'amir', 'amish', 'amo', 'among', 'amount', 'amour', 'amus', 'amusedli', 'anachronist', 'anakin', 'analyt', 'analyz', 'anchor', 'anderson', 'andi', 'andrei', 'anem', 'angel', 'angl', 'angri', 'angst', 'anguish', 'anim', 'animatron', 'ankl', 'ann', 'annex', 'annoy', 'anomi', 'anonym', 'anoth', 'answer', 'ant', 'antholog', 'anthoni', 'anthropolog', 'anthropomorph', 'anti', 'antic', 'anticip', 'anton', 'antonia', 'antwon', 'anyon', 'anyplac', 'anyth', 'anyway', 'anywher', 'apart', 'apartheid', 'ape', 'apex', 'appar', 'appeal', 'appear', 'appet', 'appetit', 'appl', 'appli', 'appoint', 'appreci', 'approach', 'appropri', 'apt', 'ararat', 'arbitrarili', 'arc', 'arcan', 'arch', 'archetyp', 'architectur', 'ardent', 'ardor', 'arduou', 'area', 'argento', 'argu', 'aristocraci', 'arm', 'armenian', 'arni', 'arnold', 'around', 'arriv', 'art', 'arthur', 'arti', 'articul', 'artific', 'artifici', 'artist', 'artsi', 'artsploit', 'artwork', 'ascertain', 'ash', 'asham', 'asian', 'asiaphil', 'asid', 'ask', 'asleep', 'asparagu', 'aspect', 'aspir', 'assassin', 'assault', 'assaya', 'assembl', 'assess', 'asset', 'assign', 'assimil', 'associ', 'assum', 'assumpt', 'assur', 'astonish', 'astonishingli', 'astound', 'astoundingli', 'astray', 'astring', 'astronaut', 'astut', 'asylum', 'athletic', 'atmospher', 'atop', 'atroci', 'attach', 'attack', 'attal', 'attempt', 'attend', 'attent', 'attitud', 'attract', 'attribut', 'audac', 'audaci', 'audiard', 'audienc', 'aussi', 'auster', 'austin', 'australian', 'auteuil', 'auteur', 'authent', 'author', 'autist', 'auto', 'autobiograph', 'autocritiqu', 'automat', 'autopsi', 'avail', 'avant', 'avari', 'aveng', 'averag', 'avers', 'avert', 'avoid', 'aw', 'awak', 'awaken', 'awar', 'award', 'away', 'awkward', 'awkwardli', 'ayala', 'ayurveda', 'baader', 'babak', 'babbitt', 'babi', 'back', 'backdrop', 'background', 'backmask', 'backward', 'backwat', 'bad', 'badder', 'badli', 'baffl', 'bag', 'bagatel', 'baggag', 'bai', 'bake', 'balanc', 'bald', 'bale', 'balk', 'ball', 'ballerina', 'ballesta', 'ballet', 'ballot', 'baloney', 'bam', 'banal', 'band', 'bank', 'banter', 'banzai', 'bar', 'baran', 'barb', 'barbar', 'barbarian', 'barbera', 'barbershop', 'bard', 'bare', 'barlow', 'barn', 'barrel', 'barri', 'barrier', 'barrow', 'bart', 'bartlebi', 'bartlett', 'base', 'basebal', 'basest', 'bash', 'basi', 'basic', 'basketbal', 'bat', 'bathtub', 'batman', 'battl', 'bawdi', 'be', 'beach', 'beacon', 'bear', 'bearabl', 'beard', 'beast', 'beat', 'beaten', 'beauti', 'becam', 'beck', 'becom', 'bedknob', 'bedroom', 'bedsid', 'bee', 'beer', 'befuddl', 'beg', 'begin', 'beginn', 'begley', 'begun', 'behan', 'behav', 'behavior', 'behaviour', 'behead', 'behind', 'behold', 'beij', 'belgium', 'belief', 'believ', 'belinski', 'belli', 'belong', 'ben', 'bender', 'beneath', 'benefit', 'benevol', 'benigni', 'benjamin', 'bent', 'bentley', 'beresford', 'berg', 'bergman', 'berkley', 'bernal', 'berri', 'bertrand', 'best', 'bet', 'betray', 'bettani', 'better', 'betti', 'bewar', 'bewild', 'bewilderingli', 'bewitch', 'beyond', 'bibl', 'biblic', 'bickl', 'bidder', 'bielinski', 'big', 'bigelow', 'bigger', 'biggest', 'bike', 'bilingu', 'bilk', 'bill', 'bind', 'bink', 'bio', 'biopic', 'bird', 'birot', 'birthday', 'biscuit', 'bit', 'bite', 'biter', 'bitten', 'bitter', 'bitterli', 'bittersweet', 'biz', 'bizarr', 'bjork', 'blab', 'black', 'blackout', 'blade', 'blair', 'blame', 'blanchett', 'bland', 'blandli', 'blank', 'blanket', 'blast', 'blatant', 'blaxploit', 'bleak', 'blend', 'bless', 'blimey', 'blind', 'blisteringli', 'blith', 'blockag', 'blockbust', 'blood', 'bloodbath', 'bloodi', 'blow', 'blown', 'blue', 'blueblood', 'blueprint', 'bluescreen', 'bluff', 'blur', 'blurri', 'blush', 'bmw', 'boarder', 'boast', 'boat', 'bode', 'bodi', 'bodic', 'boffo', 'bog', 'bogdanovich', 'bogu', 'boho', 'boil', 'boilerpl', 'bolado', 'boldli', 'bolero', 'boll', 'bollywood', 'bolt', 'bon', 'bond', 'bondish', 'bone', 'bonu', 'boob', 'book', 'boom', 'boorish', 'boost', 'boot', 'border', 'bore', 'borg', 'bori', 'born', 'bornin', 'borrow', 'bot', 'botch', 'bother', 'bottom', 'bottomlessli', 'bought', 'bound', 'boundari', 'bourgeoi', 'bourn', 'bout', 'bow', 'bowl', 'box', 'boy', 'boyd', 'brace', 'bradi', 'brain', 'brainer', 'brainless', 'branch', 'brand', 'brash', 'brass', 'brat', 'bratti', 'braveri', 'brazen', 'breach', 'bread', 'breadth', 'break', 'breakthrough', 'breath', 'breathless', 'breathtakingli', 'breen', 'breezi', 'breillat', 'brendan', 'brew', 'brian', 'bride', 'bridg', 'brief', 'brightli', 'brillianc', 'brilliant', 'brilliantli', 'brim', 'bring', 'brio', 'brisk', 'brit', 'british', 'britney', 'brittl', 'broad', 'broadsid', 'broder', 'brodi', 'brogu', 'broil', 'broke', 'broken', 'brood', 'brook', 'brooklyn', 'broom', 'broomfield', 'broomstick', 'brosnan', 'brother', 'brought', 'brow', 'brown', 'bruce', 'bruckheim', 'bruckheimeresqu', 'bruin', 'bruis', 'brush', 'brusqu', 'brussel', 'brutal', 'bubbl', 'buck', 'buckaroo', 'bud', 'buddi', 'budget', 'buffoon', 'bug', 'bugsi', 'build', 'built', 'bulk', 'bullet', 'bullfight', 'bullock', 'bump', 'bunch', 'bungl', 'buoyant', 'burden', 'burger', 'burlesqu', 'burn', 'burr', 'burrito', 'burst', 'busi', 'bust', 'bustl', 'butterfli', 'button', 'buy', 'buyer', 'buzz', 'bygon', 'bypass', 'ca', 'cabin', 'cabl', 'cacoyanni', 'caddyshack', 'caesar', 'caffein', 'cagney', 'cahil', 'cain', 'cake', 'cal', 'calam', 'calcul', 'calculu', 'calibr', 'california', 'call', 'callow', 'calori', 'calvin', 'came', 'cameo', 'camera', 'camouflag', 'camp', 'campaign', 'campanella', 'campfir', 'campi', 'canada', 'candi', 'candl', 'candor', 'cann', 'canni', 'cannib', 'cap', 'capabl', 'cape', 'caper', 'capit', 'captain', 'captiv', 'captur', 'car', 'card', 'care', 'careen', 'career', 'carey', 'cari', 'caricatur', 'carl', 'carlin', 'carmichael', 'carol', 'carousel', 'carpent', 'carri', 'carter', 'cartoon', 'cartoonish', 'carv', 'carvey', 'case', 'cash', 'cassavet', 'cast', 'casual', 'casualti', 'cat', 'catch', 'categori', 'cater', 'catharsi', 'cathart', 'catherin', 'cathol', 'cattaneo', 'caught', 'caus', 'cautionari', 'cavort', 'cedar', 'celebr', 'cell', 'cello', 'cellophan', 'celluloid', 'center', 'central', 'centuri', 'ceo', 'cerebr', 'ceremoni', 'certain', 'certainli', 'chabrol', 'chabrolian', 'chai', 'chain', 'chainsaw', 'chair', 'chalk', 'challeng', 'champion', 'chan', 'chanc', 'chang', 'channel', 'chao', 'chaotic', 'chaplin', 'chapter', 'charact', 'character', 'characteris', 'characterist', 'charg', 'charisma', 'charismat', 'charl', 'charleston', 'charli', 'charlott', 'charm', 'charmer', 'chart', 'chase', 'chateau', 'chaykin', 'cheap', 'cheaper', 'cheapo', 'cheat', 'check', 'cheek', 'cheer', 'cheeri', 'chees', 'cheesi', 'chef', 'chekhov', 'chelsea', 'chemic', 'chemistri', 'cherish', 'cherri', 'chest', 'chesterton', 'chew', 'chiaroscuro', 'chicago', 'chick', 'chicken', 'chief', 'child', 'childhood', 'childish', 'childlik', 'children', 'chill', 'chiller', 'chilli', 'chillingli', 'chimney', 'chimp', 'chines', 'cho', 'chocol', 'choic', 'choke', 'choos', 'chop', 'choppi', 'choquart', 'chord', 'choreograph', 'choreographi', 'chou', 'chouraqui', 'chri', 'christian', 'christin', 'christma', 'christoph', 'chronicl', 'chuck', 'chuckl', 'church', 'churn', 'cia', 'cinderella', 'cineast', 'cinema', 'cinemant', 'cinemat', 'cinematograph', 'cinematographi', 'circa', 'circl', 'circuit', 'circular', 'circumst', 'citi', 'citizen', 'civic', 'clad', 'claim', 'clam', 'clanci', 'clarifi', 'clariti', 'clash', 'class', 'classi', 'classic', 'classif', 'classifi', 'classroom', 'claud', 'claus', 'claustrophob', 'clayburgh', 'clean', 'cleaner', 'cleans', 'clear', 'clearli', 'cleav', 'cleaver', 'clerk', 'cleti', 'clever', 'cleverli', 'clich', 'click', 'cliffhang', 'climact', 'climb', 'clinic', 'clint', 'clip', 'cliqu', 'cloak', 'clock', 'clockstopp', 'clooney', 'close', 'closer', 'closet', 'closur', 'cloth', 'clownish', 'cloy', 'cloyingli', 'club', 'clueless', 'clumsi', 'clumsili', 'clung', 'clunki', 'clyde', 'co', 'coal', 'coast', 'coaster', 'coat', 'cobbl', 'coburn', 'cockey', 'cockney', 'code', 'coffe', 'coher', 'cohes', 'coinag', 'cold', 'colin', 'collag', 'collaps', 'collater', 'colleagu', 'collect', 'colleg', 'colli', 'collis', 'color', 'colosseum', 'colour', 'coltish', 'columbu', 'com', 'coma', 'comatos', 'combin', 'combust', 'come', 'comed', 'comedi', 'comedian', 'comfort', 'comic', 'command', 'commend', 'comment', 'commentari', 'commerci', 'commit', 'common', 'commun', 'compani', 'companion', 'compar', 'comparison', 'compass', 'compel', 'compellingli', 'compendium', 'compens', 'compet', 'competit', 'complac', 'complain', 'complaint', 'complet', 'complex', 'complic', 'compos', 'composit', 'comprehens', 'compress', 'compromis', 'compuls', 'comput', 'con', 'conan', 'conceal', 'conceit', 'conceiv', 'concentr', 'concept', 'concern', 'concert', 'conclus', 'concoct', 'condens', 'condit', 'conduct', 'cone', 'confid', 'confin', 'conflict', 'conform', 'confound', 'confront', 'confus', 'congratul', 'conjur', 'connect', 'conniv', 'conquer', 'conscienti', 'consciou', 'conscious', 'consequ', 'conserv', 'consid', 'consider', 'consist', 'consol', 'conspicu', 'conspiraci', 'conspiratori', 'constant', 'constantli', 'constraint', 'constrict', 'construct', 'consum', 'contact', 'contain', 'contempl', 'contemporari', 'content', 'contentedli', 'contest', 'context', 'contin', 'continu', 'contour', 'contradict', 'contrast', 'contribut', 'contriv', 'control', 'controversi', 'contruct', 'conundrum', 'conveni', 'convent', 'convers', 'convert', 'convey', 'convict', 'convinc', 'convincingli', 'convolut', 'cook', 'cool', 'cooler', 'cop', 'cope', 'copi', 'coppola', 'copycat', 'copyof', 'cor', 'core', 'coriat', 'cornbal', 'corner', 'corni', 'correct', 'correctli', 'corrupt', 'cost', 'costner', 'costum', 'cotswold', 'could', 'coulda', 'count', 'counterpart', 'counterproduct', 'countless', 'countri', 'coupl', 'courag', 'cours', 'courtroom', 'cover', 'cowardli', 'cower', 'cox', 'crack', 'cracker', 'crackl', 'cradl', 'craft', 'crafti', 'craftsmanship', 'cram', 'crane', 'cranki', 'crap', 'crass', 'crassli', 'crave', 'craven', 'crawli', 'craze', 'crazi', 'creat', 'creation', 'creativ', 'creator', 'creatur', 'credibl', 'credit', 'creek', 'creep', 'creepi', 'cremast', 'crematorium', 'crescendo', 'crew', 'cricket', 'crikey', 'crime', 'crimen', 'crimin', 'crippl', 'crise', 'crisi', 'crisp', 'crisper', 'cristo', 'critic', 'critiqu', 'cronenberg', 'cross', 'crossroad', 'crowd', 'crucial', 'crucifixion', 'crude', 'crudup', 'cruel', 'crush', 'crystal', 'cuisin', 'culkin', 'cull', 'cult', 'cultur', 'cun', 'curios', 'curiou', 'curious', 'curl', 'current', 'curs', 'curv', 'cuss', 'cut', 'cute', 'cuter', 'cyber', 'cynic', 'da', 'dad', 'dadaist', 'daft', 'dahmer', 'daili', 'dalrympl', 'damag', 'damm', 'damn', 'damon', 'dana', 'danang', 'danc', 'dancer', 'danger', 'daniel', 'dant', 'dare', 'dark', 'darker', 'darl', 'dash', 'dass', 'date', 'daughter', 'dave', 'davi', 'david', 'dawn', 'dawson', 'day', 'daytim', 'dazzl', 'de', 'dead', 'deadli', 'deadpan', 'deal', 'dealer', 'dealt', 'dear', 'death', 'debat', 'debt', 'debut', 'decad', 'decasia', 'deceit', 'decent', 'decept', 'decid', 'decidedli', 'decis', 'declar', 'declin', 'decod', 'deconstruct', 'decor', 'decter', 'dedic', 'deed', 'deep', 'deeper', 'deepest', 'deepli', 'defeat', 'defeatingli', 'defend', 'defens', 'defi', 'defianc', 'defiantli', 'defin', 'definit', 'deft', 'deftli', 'defus', 'degener', 'degrad', 'degre', 'del', 'delect', 'delet', 'delia', 'deliber', 'delic', 'delici', 'delight', 'delin', 'deliri', 'deliv', 'deliveri', 'delv', 'demand', 'dement', 'demeo', 'demm', 'democrat', 'demograph', 'demon', 'demonstr', 'dench', 'deni', 'deniro', 'denizen', 'denmark', 'denouement', 'dens', 'densest', 'dentist', 'denud', 'denzel', 'deok', 'depalma', 'depart', 'departur', 'depend', 'depict', 'deplet', 'deposit', 'deprav', 'deprec', 'depress', 'depth', 'der', 'derang', 'deriv', 'derrida', 'descend', 'describ', 'descript', 'desecr', 'deserv', 'design', 'desir', 'despair', 'despairingli', 'desper', 'despit', 'destin', 'destini', 'destroy', 'destruct', 'detach', 'detail', 'deterior', 'determin', 'detract', 'detriment', 'deuc', 'devast', 'develop', 'deviant', 'devic', 'devil', 'devo', 'devoid', 'devolv', 'devot', 'dey', 'dialogu', 'dian', 'dicaprio', 'dick', 'dicken', 'dickensian', 'dictat', 'didact', 'didactic', 'die', 'diesel', 'differ', 'difficult', 'difficulti', 'dig', 'digit', 'dignifi', 'digniti', 'dilemma', 'dim', 'dime', 'dimens', 'dimension', 'diminish', 'diner', 'dinner', 'dip', 'diplomaci', 'direct', 'director', 'directori', 'dirti', 'disabl', 'disagre', 'disappoint', 'disappointingli', 'disapprov', 'disassoci', 'disast', 'disbelief', 'discern', 'disciplin', 'discomfort', 'disconcertingli', 'disconnect', 'discont', 'discourag', 'discours', 'discov', 'discoveri', 'discurs', 'discuss', 'disgrac', 'disguis', 'disgust', 'dish', 'disingenu', 'disintegr', 'dismal', 'dismemb', 'dismiss', 'disney', 'dispar', 'dispassion', 'dispel', 'displac', 'display', 'dispos', 'disposit', 'disquiet', 'dissect', 'distanc', 'distant', 'distast', 'distil', 'distinct', 'distinctli', 'distort', 'distract', 'disturb', 'disturbingli', 'ditti', 'diva', 'divers', 'divert', 'divin', 'dizzili', 'doa', 'doc', 'document', 'documentari', 'documentarian', 'dog', 'doggi', 'dogma', 'dogtown', 'dole', 'doll', 'dollar', 'dolman', 'dolor', 'dolphin', 'doltish', 'domest', 'domin', 'domino', 'done', 'dong', 'donovan', 'doo', 'doofu', 'doom', 'dooper', 'door', 'doorstep', 'dopey', 'dori', 'dose', 'dot', 'doubl', 'doubt', 'doug', 'dough', 'dougla', 'dover', 'downfal', 'downhil', 'downplay', 'downright', 'downtim', 'downward', 'doyl', 'doze', 'dozen', 'drab', 'drag', 'draggi', 'dragon', 'dragonfli', 'drain', 'drama', 'dramat', 'dramaturgi', 'draw', 'drawl', 'drawn', 'dread', 'dream', 'dreami', 'dreamlik', 'dreari', 'dreck', 'drench', 'dress', 'dri', 'drill', 'drink', 'drinker', 'drip', 'drive', 'droll', 'drop', 'drown', 'drug', 'drumlin', 'drung', 'drunk', 'dualist', 'dub', 'duck', 'dud', 'dude', 'due', 'duli', 'dull', 'dullest', 'duma', 'dumb', 'dumbo', 'dummi', 'dungpil', 'dunst', 'dupe', 'dust', 'duti', 'duval', 'dvd', 'dwarf', 'dwell', 'dwindl', 'dylan', 'dynam', 'dynamit', 'dysfunct', 'dystopian', 'eager', 'ear', 'earli', 'earlier', 'earn', 'earnest', 'earnhart', 'earth', 'eas', 'easi', 'easier', 'easili', 'eastern', 'eastwood', 'eat', 'ebulli', 'eccentr', 'eclair', 'eclips', 'econom', 'ecstasi', 'ed', 'eddi', 'edg', 'edgi', 'edifi', 'edit', 'educ', 'edward', 'eeri', 'eerili', 'effect', 'effici', 'effort', 'effortless', 'effortlessli', 'ego', 'eh', 'eight', 'einstein', 'eisenhow', 'eisenstein', 'either', 'el', 'elabor', 'elbow', 'elect', 'electrocut', 'eleg', 'elegantli', 'element', 'elev', 'elicit', 'elimin', 'elizabeth', 'ell', 'elm', 'eloqu', 'els', 'elus', 'elvi', 'elvira', 'elysian', 'em', 'emaci', 'embalm', 'embarrass', 'embarrassingli', 'embodi', 'embrac', 'emerg', 'emin', 'emot', 'empathi', 'emperor', 'emphas', 'emphasi', 'emphasis', 'emphat', 'empir', 'employ', 'empow', 'empower', 'empti', 'emptili', 'emul', 'enact', 'enchant', 'encomia', 'encompass', 'encount', 'encourag', 'end', 'endear', 'endeavor', 'endeavour', 'endgam', 'endless', 'endlessli', 'endors', 'endur', 'enemi', 'energ', 'energet', 'energi', 'engag', 'engin', 'england', 'english', 'engorg', 'engross', 'enhanc', 'enigma', 'enigmat', 'enjoy', 'ennui', 'enorm', 'enough', 'enrich', 'ensembl', 'ensu', 'ensur', 'entendr', 'enter', 'enterpris', 'entertain', 'entertainingli', 'enthusiasm', 'enthusiast', 'entir', 'entiti', 'entranc', 'entri', 'envelop', 'environ', 'epic', 'episod', 'epitaph', 'epp', 'equal', 'equat', 'equival', 'era', 'erect', 'eric', 'erot', 'erotic', 'err', 'errol', 'error', 'erupt', 'escap', 'escapad', 'escapist', 'esoter', 'especi', 'espn', 'esqu', 'essenc', 'essenti', 'establish', 'esteem', 'esther', 'estrang', 'etc', 'etern', 'ethan', 'ether', 'ethic', 'ethnic', 'ethnographi', 'euphoria', 'euro', 'european', 'evalu', 'evan', 'evanesc', 'evelyn', 'even', 'evenli', 'event', 'eventu', 'ever', 'everi', 'everybodi', 'everyday', 'everyman', 'everyon', 'everyth', 'everywher', 'evil', 'evoc', 'evok', 'evolv', 'ex', 'exact', 'exactli', 'exagger', 'exalt', 'examin', 'exampl', 'exasper', 'exasperatingli', 'exce', 'exceedingli', 'excel', 'except', 'excess', 'exchang', 'excit', 'exclus', 'excruci', 'excus', 'execr', 'execut', 'exercis', 'exhaust', 'exhibition', 'exhilar', 'exhilaratingli', 'exil', 'exist', 'existenti', 'exit', 'exot', 'exotic', 'expand', 'expans', 'expect', 'expedi', 'expens', 'experi', 'experiment', 'expert', 'expiri', 'explain', 'explicit', 'explod', 'exploit', 'explor', 'exploratori', 'explos', 'expos', 'exposit', 'exposur', 'expound', 'express', 'exquisit', 'extend', 'extens', 'extent', 'extermin', 'extra', 'extraordinari', 'extraordinarili', 'extravag', 'extravaganza', 'extrem', 'extremist', 'exud', 'eye', 'eyelid', 'eyr', 'fabl', 'fabric', 'fabul', 'face', 'facet', 'facil', 'fact', 'factor', 'factori', 'fad', 'fade', 'fagioli', 'fahrenheit', 'fail', 'fair', 'fairi', 'fairlan', 'fairli', 'faith', 'fake', 'falcon', 'fall', 'fallibl', 'fallon', 'fals', 'falsehood', 'falter', 'fame', 'famili', 'familiar', 'famou', 'famuyiwa', 'fan', 'fanat', 'fanci', 'fantasi', 'fantasia', 'fantast', 'fantasti', 'far', 'farc', 'farcic', 'fare', 'fascin', 'fashion', 'fast', 'fastbal', 'faster', 'fat', 'fatal', 'fate', 'father', 'favor', 'fax', 'fear', 'feardotcom', 'fearless', 'feat', 'feather', 'featur', 'fece', 'feebl', 'feed', 'feel', 'feet', 'felinni', 'fellow', 'felt', 'femal', 'femin', 'feminist', 'fenc', 'feral', 'feroc', 'ferrara', 'ferrera', 'ferret', 'fertil', 'fervent', 'fessenden', 'fest', 'fester', 'festiv', 'fetch', 'fetid', 'fetish', 'fewer', 'fi', 'fiction', 'field', 'fiendish', 'fienn', 'fierc', 'fifteen', 'fifth', 'fifti', 'fight', 'fighter', 'figur', 'file', 'fill', 'fillm', 'film', 'filmgoer', 'filmmak', 'final', 'find', 'fine', 'finess', 'finest', 'finish', 'fire', 'firmli', 'first', 'fish', 'fisher', 'fist', 'fistfight', 'fit', 'five', 'fizz', 'fizzl', 'flabbi', 'flag', 'flail', 'flair', 'flakebal', 'flamboy', 'flame', 'flash', 'flashback', 'flashi', 'flat', 'flatli', 'flatten', 'flatul', 'flavor', 'flavorless', 'flaw', 'flee', 'fleet', 'flick', 'flicker', 'flimsi', 'flimsier', 'fling', 'flirt', 'float', 'floor', 'flop', 'floppi', 'flow', 'flower', 'fluff', 'fluid', 'focu', 'focus', 'fog', 'foibl', 'folk', 'folktal', 'folli', 'follow', 'fond', 'fondli', 'fontain', 'food', 'fool', 'foolish', 'foot', 'footag', 'footbal', 'forc', 'ford', 'foreign', 'foremost', 'foreshadow', 'forget', 'forgett', 'forgiv', 'forgiven', 'forgot', 'forgotten', 'fork', 'form', 'formal', 'format', 'former', 'formula', 'formuliac', 'forrest', 'forsaken', 'fort', 'forth', 'forthright', 'fortifi', 'fortun', 'foster', 'found', 'foundat', 'four', 'foxworthi', 'fragil', 'frailti', 'frame', 'framework', 'franc', 'franchis', 'frank', 'frankenstein', 'frankli', 'franklin', 'frantic', 'franz', 'frat', 'freak', 'freaki', 'freakish', 'freakshow', 'free', 'freedom', 'freeli', 'french', 'frenzi', 'frequent', 'fresh', 'freshli', 'fresnadillo', 'fret', 'freud', 'freudian', 'freundlich', 'frida', 'friday', 'friel', 'friend', 'friendship', 'frighten', 'frighteningli', 'frill', 'fring', 'fritter', 'front', 'frontal', 'frost', 'froth', 'frothi', 'frozen', 'fruit', 'frustrat', 'frustratingli', 'fudg', 'fuel', 'fulfil', 'full', 'fulli', 'fumbl', 'fume', 'fun', 'function', 'fundament', 'funer', 'funk', 'funni', 'funnier', 'funniest', 'furi', 'furiou', 'furious', 'furrow', 'fuse', 'fuss', 'fusti', 'fustili', 'futur', 'futurist', 'fuzzi', 'gadget', 'gag', 'gaieti', 'gain', 'gaitskil', 'galan', 'gall', 'gallic', 'gallo', 'gambl', 'game', 'gandalf', 'gander', 'gang', 'gangster', 'gantz', 'gap', 'garbag', 'gard', 'gari', 'garner', 'garth', 'gasm', 'gasp', 'gate', 'gator', 'gaudi', 'gaunt', 'gave', 'gawki', 'gay', 'gayton', 'gear', 'geek', 'gel', 'gem', 'gender', 'gener', 'generos', 'geneva', 'genial', 'genit', 'genr', 'gentil', 'gentl', 'gentlemen', 'gentli', 'genuin', 'geograph', 'georg', 'georgian', 'geriatr', 'german', 'germani', 'get', 'ghetto', 'ghost', 'giannini', 'giant', 'gibberish', 'giddi', 'gifford', 'gift', 'gigant', 'giggl', 'gile', 'gimmicki', 'girl', 'girlfriend', 'give', 'given', 'glacial', 'glamor', 'glamour', 'glass', 'glean', 'gleefulli', 'glib', 'glimps', 'glitter', 'glizti', 'globetrott', 'gloomi', 'glori', 'glorif', 'glorifi', 'gloriou', 'glorious', 'gloss', 'glossi', 'glow', 'glum', 'go', 'goal', 'god', 'godard', 'godfrey', 'goe', 'gold', 'goldbach', 'goldman', 'goldmemb', 'goliath', 'gone', 'gong', 'good', 'goodwil', 'gooey', 'goofi', 'goofiest', 'goos', 'gore', 'gorgeou', 'gorgeous', 'gori', 'gosl', 'gossip', 'got', 'goth', 'gothic', 'gourd', 'gourmet', 'govern', 'grabowski', 'grace', 'graceland', 'grade', 'gradual', 'graduat', 'graffiti', 'grain', 'graini', 'grand', 'grandeur', 'grandios', 'grandkid', 'grandpar', 'grant', 'graphic', 'grasp', 'grate', 'gratifi', 'gratitud', 'gratuit', 'grave', 'graviti', 'gray', 'graze', 'greas', 'greasi', 'great', 'greatest', 'greatli', 'greek', 'green', 'gremlin', 'grenad', 'grenier', 'grenobl', 'greta', 'grey', 'grief', 'griev', 'grievou', 'griffith', 'grim', 'grin', 'grind', 'grip', 'gritti', 'groen', 'gross', 'grossest', 'grossli', 'grotesqu', 'ground', 'group', 'groupi', 'grow', 'grown', 'grownup', 'grubber', 'grumbl', 'grumpi', 'grung', 'guarante', 'guard', 'guess', 'guid', 'guillen', 'guilt', 'guilti', 'gulpilil', 'gulzar', 'gump', 'gun', 'gunfight', 'gunplay', 'gush', 'gushi', 'gussi', 'gut', 'gutless', 'gutsi', 'gutter', 'guy', 'gyllenha', 'hack', 'hackney', 'hail', 'hair', 'hairdo', 'hairier', 'hal', 'half', 'halfheart', 'halfway', 'hall', 'hallmark', 'halloween', 'hallucinatori', 'ham', 'hammi', 'hammili', 'hamper', 'hamstrung', 'hand', 'handedli', 'handgun', 'handili', 'handiwork', 'handl', 'handsom', 'hang', 'hank', 'hanki', 'hanna', 'hannib', 'happen', 'happenst', 'happi', 'happili', 'harangu', 'hard', 'hardass', 'harden', 'hardheart', 'hardli', 'hark', 'harm', 'harmless', 'harmon', 'harri', 'harrison', 'harrow', 'harsh', 'hartley', 'harvest', 'harvey', 'hash', 'hashiguchi', 'hastili', 'hat', 'hate', 'hatfield', 'hatosi', 'haunt', 'hawaiian', 'hawk', 'hayek', 'hayn', 'haywir', 'head', 'headbang', 'headi', 'headli', 'healthi', 'heap', 'hear', 'heard', 'hearst', 'heart', 'heartbreak', 'hearten', 'heartfelt', 'hearti', 'heartwarm', 'heat', 'heaven', 'heavi', 'heavili', 'heavyweight', 'heck', 'hectic', 'hedonist', 'heed', 'heel', 'heft', 'heidegg', 'height', 'heighten', 'heist', 'held', 'helga', 'hell', 'heller', 'hellish', 'helluva', 'helmer', 'help', 'henc', 'her', 'herebi', 'hermocr', 'hero', 'heroin', 'herzog', 'hew', 'hewitt', 'hewn', 'hey', 'heyday', 'hick', 'hidden', 'hide', 'hidebound', 'hierarchi', 'high', 'highest', 'highli', 'highlight', 'hilar', 'hilari', 'hill', 'hing', 'hint', 'hip', 'hippest', 'hippi', 'hippopotamu', 'histor', 'histori', 'histrion', 'hit', 'hitch', 'hitchcock', 'hitchcockian', 'hitler', 'ho', 'hoari', 'hobbi', 'hobbl', 'hobnail', 'hodgepodg', 'hold', 'holden', 'hole', 'holiday', 'holli', 'hollow', 'hollywood', 'holm', 'holocaust', 'holofcen', 'holofcent', 'holograph', 'homag', 'home', 'homework', 'homilet', 'homo', 'homophobia', 'honest', 'honesti', 'honestli', 'hong', 'honk', 'honor', 'hood', 'hook', 'hooligan', 'hoot', 'hop', 'hope', 'hopeless', 'hopelessli', 'hopkin', 'hormon', 'horrend', 'horribl', 'horrid', 'horrifi', 'horror', 'hors', 'horton', 'hossein', 'host', 'hostag', 'hostil', 'hot', 'hotel', 'hothous', 'hotsi', 'hottest', 'hoult', 'hour', 'hous', 'houseboat', 'howard', 'howev', 'howler', 'hubrist', 'hudlin', 'hudson', 'huge', 'hugh', 'hum', 'human', 'humanist', 'humankind', 'humanli', 'humbuggeri', 'humor', 'humorless', 'humour', 'hundr', 'hunger', 'hungri', 'hunnam', 'huppert', 'hurt', 'husband', 'hush', 'huski', 'hussein', 'huston', 'hutchin', 'hybrid', 'hyper', 'hyperbol', 'hypermasculin', 'hyphen', 'hypnot', 'hyster', 'ian', 'ice', 'ichi', 'ici', 'icili', 'ick', 'idea', 'ideal', 'idealist', 'ident', 'ideolog', 'idioci', 'idiosyncrat', 'idiot', 'ignit', 'ignor', 'ii', 'iii', 'ile', 'ilk', 'ill', 'illog', 'illumin', 'imag', 'imageri', 'imagin', 'imaginari', 'imamura', 'imax', 'imbecil', 'imbu', 'imit', 'immacul', 'immatur', 'immedi', 'immediaci', 'immens', 'immers', 'immun', 'imogen', 'impact', 'impati', 'impecc', 'impenetr', 'imperson', 'implaus', 'impli', 'implic', 'imponder', 'import', 'impos', 'imposs', 'impostor', 'impress', 'impressionist', 'improb', 'improv', 'improvis', 'impud', 'impuls', 'inabl', 'inadequ', 'inadvert', 'inan', 'inappropri', 'inauspici', 'inauthent', 'inc', 'incess', 'incid', 'incis', 'inclin', 'includ', 'inclus', 'incognito', 'incoher', 'incompet', 'incomprehens', 'inconceiv', 'incongru', 'inconsequenti', 'inconsist', 'incorpor', 'increasingli', 'incred', 'inde', 'indecipher', 'indel', 'independ', 'indi', 'india', 'indian', 'indic', 'indieflick', 'indign', 'individu', 'induc', 'indulg', 'industri', 'ineffect', 'ineleg', 'inept', 'ineptli', 'inert', 'inertia', 'inevit', 'inexor', 'inexperienc', 'inexplic', 'infami', 'infantil', 'infatu', 'infecti', 'infidel', 'inflict', 'influenc', 'inform', 'infuri', 'infuriatingli', 'infus', 'ing', 'ingenu', 'ingest', 'ingrati', 'ingredi', 'inhabit', 'inhal', 'inher', 'inhuman', 'inimit', 'initi', 'inject', 'injuri', 'inner', 'innoc', 'innocu', 'innov', 'innuendo', 'inoffens', 'inquiri', 'inquisit', 'insan', 'insensit', 'insid', 'insight', 'insignific', 'insinu', 'insipid', 'insist', 'insomnia', 'inspector', 'inspir', 'instal', 'instanc', 'instantli', 'instead', 'instig', 'instinct', 'institut', 'institution', 'instrument', 'insuffer', 'insult', 'insultingli', 'insurrect', 'intact', 'integr', 'intellect', 'intellectu', 'intellig', 'intend', 'intens', 'intent', 'inter', 'interchang', 'interest', 'interfaith', 'intergalact', 'intermin', 'intermitt', 'intern', 'internet', 'interperson', 'interplay', 'interpret', 'intersect', 'interview', 'intim', 'intimaci', 'intoler', 'intox', 'intoxicatingli', 'intric', 'intrigu', 'intriguingli', 'introduc', 'introduct', 'introspect', 'invalu', 'invent', 'invest', 'investig', 'invigor', 'invinc', 'invit', 'invok', 'involv', 'iosseliani', 'iq', 'iranian', 'iraqi', 'irish', 'irk', 'iron', 'ironi', 'irrat', 'irredeem', 'irrelev', 'irrepar', 'irresist', 'irrespons', 'irrevoc', 'irrit', 'irwin', 'ish', 'island', 'ismail', 'isol', 'isra', 'issu', 'ital', 'italian', 'itch', 'ivan', 'ivori', 'jack', 'jackass', 'jacki', 'jackson', 'jacobson', 'jacquot', 'jade', 'jagger', 'jagjit', 'jaglom', 'jam', 'jame', 'jane', 'janic', 'janklowicz', 'janszen', 'januari', 'japan', 'japanes', 'jar', 'jason', 'jaunt', 'jaw', 'jay', 'jazz', 'jazzi', 'jealousi', 'jean', 'jeff', 'jeffrey', 'jell', 'jelli', 'jennif', 'jeopardi', 'jeremi', 'jerri', 'jessica', 'jesu', 'jia', 'jiang', 'jim', 'jive', 'joan', 'job', 'joe', 'joel', 'john', 'joint', 'joke', 'jokey', 'joli', 'jolli', 'jolt', 'jon', 'jonah', 'jonathan', 'jone', 'jonz', 'joseph', 'jostl', 'journalist', 'journey', 'joy', 'joyless', 'joylessli', 'joyou', 'jr', 'judg', 'judgment', 'judith', 'juggler', 'juic', 'juici', 'juli', 'juliet', 'juliett', 'jumbl', 'jumbo', 'jump', 'jumpsuit', 'june', 'junior', 'junki', 'justic', 'justifi', 'justin', 'juvenil', 'juwanna', 'juxtaposit', 'kafka', 'kahlo', 'kane', 'kang', 'kao', 'kapur', 'karen', 'katherin', 'kathi', 'kaufman', 'keen', 'keenli', 'keep', 'kendal', 'kevin', 'key', 'ki', 'kick', 'kid', 'kiddi', 'kidman', 'kieran', 'kieslowski', 'kill', 'killer', 'kilter', 'kim', 'kimmel', 'kind', 'kinda', 'king', 'kinki', 'kinnear', 'kirkegaard', 'kirshner', 'kirsten', 'kiss', 'kitchen', 'kitschi', 'kline', 'knack', 'knew', 'knock', 'knockout', 'know', 'knowledg', 'known', 'kong', 'kooki', 'kool', 'korea', 'korean', 'kosashvili', 'kosminski', 'kouri', 'kouyat', 'krige', 'kubrick', 'kung', 'kura', 'kuri', 'kurt', 'kwan', 'la', 'label', 'labor', 'labour', 'labut', 'lack', 'lackadais', 'ladder', 'laddish', 'laden', 'ladi', 'lag', 'lagaan', 'laid', 'laissez', 'lamb', 'lame', 'lampoon', 'land', 'landbound', 'landmark', 'landscap', 'lane', 'languag', 'languidli', 'languor', 'lap', 'laps', 'laptop', 'lard', 'larg', 'larger', 'larson', 'last', 'latch', 'late', 'latent', 'later', 'latest', 'latin', 'latter', 'lau', 'laudabl', 'laugh', 'laughabl', 'laughter', 'launch', 'laundri', 'laura', 'laurenc', 'lauric', 'lavish', 'lavishli', 'law', 'lawmen', 'lawrenc', 'lax', 'layer', 'lazi', 'le', 'lead', 'leaden', 'leagu', 'leak', 'leap', 'lear', 'learn', 'leash', 'least', 'leather', 'leav', 'lector', 'lectur', 'led', 'ledger', 'lee', 'leer', 'leeri', 'left', 'leg', 'legal', 'leguizamo', 'leigh', 'len', 'lend', 'length', 'lengthi', 'leon', 'leonin', 'leontin', 'less', 'lessen', 'lesser', 'lesson', 'let', 'letdown', 'letterman', 'level', 'leviti', 'lewi', 'ley', 'liar', 'liber', 'liberti', 'libertin', 'librarian', 'lie', 'lieuten', 'life', 'lifeless', 'lifestyl', 'lifetim', 'lift', 'light', 'lighten', 'lightheart', 'lightli', 'lightweight', 'lika', 'like', 'likeabl', 'lili', 'lillard', 'lilo', 'liman', 'limb', 'limit', 'limp', 'line', 'liner', 'linger', 'lingeri', 'link', 'linklat', 'lint', 'liotta', 'lip', 'lisa', 'list', 'listen', 'listless', 'liter', 'literari', 'literarili', 'literatur', 'litmu', 'littl', 'live', 'liveli', 'liza', 'load', 'loaf', 'lobbi', 'lobbyist', 'local', 'locat', 'loco', 'lodg', 'log', 'logic', 'lohman', 'london', 'lone', 'loneli', 'long', 'longer', 'longest', 'longev', 'longley', 'longtim', 'look', 'lookin', 'looney', 'looni', 'loopi', 'loos', 'lopez', 'loquaci', 'lord', 'lore', 'lose', 'loser', 'loss', 'lost', 'lot', 'lothario', 'lotteri', 'loud', 'loui', 'lousi', 'lovabl', 'love', 'lovefest', 'lover', 'low', 'lowbrow', 'lower', 'lowli', 'loyal', 'loyalti', 'lrb', 'luck', 'lucki', 'lucr', 'ludicr', 'lull', 'lumin', 'lump', 'lumpen', 'lunaci', 'lunar', 'lunat', 'lunch', 'lung', 'lurid', 'lurk', 'lusciou', 'lush', 'lust', 'lustrou', 'luv', 'lynch', 'lyric', 'macabr', 'macdowel', 'machin', 'machismo', 'mad', 'madden', 'made', 'madman', 'madmen', 'madonna', 'maelstrom', 'mafia', 'magazin', 'magic', 'magnet', 'magnific', 'maguir', 'maid', 'maiden', 'mail', 'main', 'mainland', 'mainli', 'mainstream', 'maintain', 'major', 'make', 'maker', 'makeup', 'makhmalbaf', 'malais', 'malaprop', 'malcolm', 'male', 'mamet', 'man', 'mana', 'manag', 'manhattan', 'manhood', 'mani', 'mania', 'manifest', 'manifesto', 'manipul', 'mann', 'manner', 'manoel', 'manual', 'manufactur', 'mar', 'march', 'margarita', 'margin', 'margot', 'mari', 'mariah', 'marina', 'mark', 'market', 'marriag', 'marshal', 'mart', 'martha', 'martial', 'martin', 'marvel', 'marvin', 'masculin', 'masoch', 'masquerad', 'mass', 'massacr', 'massiv', 'massoud', 'master', 'masterpeic', 'masterpiec', 'match', 'materi', 'matern', 'matey', 'matine', 'matrix', 'mattei', 'mattel', 'matter', 'matthew', 'matur', 'maudlin', 'mawkish', 'maximum', 'may', 'mayb', 'mayhem', 'maze', 'mcadam', 'mcbeal', 'mcconaughey', 'mcdowel', 'mcgrath', 'mckay', 'mcmullen', 'mean', 'meander', 'meaning', 'meaningless', 'meant', 'measur', 'meat', 'meatbal', 'meati', 'mechan', 'medic', 'medicin', 'mediocr', 'medit', 'medium', 'meet', 'megalomaniac', 'mehta', 'meinhof', 'mel', 'melanchol', 'melancholi', 'melang', 'melani', 'melodrama', 'melodramat', 'member', 'memento', 'memor', 'memori', 'men', 'menac', 'mend', 'mental', 'mention', 'meow', 'merchant', 'merci', 'mere', 'merg', 'merit', 'mermaid', 'mesmer', 'mess', 'messag', 'messi', 'messian', 'metal', 'metaphor', 'method', 'methodolog', 'meticul', 'mexican', 'meyj', 'miami', 'mib', 'michael', 'michel', 'mick', 'middl', 'midlif', 'midnight', 'midriff', 'midsect', 'midst', 'midwest', 'might', 'mighti', 'miik', 'mild', 'milder', 'mildli', 'mile', 'mileston', 'milk', 'mill', 'miller', 'million', 'milquetoast', 'minac', 'mind', 'mindless', 'mindset', 'mine', 'mingl', 'minim', 'minimalist', 'minimum', 'minkoff', 'minni', 'minor', 'minut', 'miracl', 'miramax', 'mire', 'misadventur', 'misanthrop', 'miscalcul', 'miscellan', 'misconstru', 'misdirect', 'miseri', 'misfir', 'misfortun', 'mishmash', 'miss', 'mission', 'mistak', 'misti', 'misunderstood', 'mitchel', 'mix', 'mixtur', 'miyazaki', 'mo', 'moan', 'mockumentari', 'model', 'modem', 'modern', 'modest', 'modestli', 'modu', 'moist', 'mojo', 'mom', 'moment', 'momentum', 'mommi', 'mon', 'money', 'mongrel', 'monkey', 'monoton', 'monro', 'monsoon', 'monster', 'monstrou', 'mont', 'monti', 'monument', 'mood', 'moon', 'moonlight', 'moor', 'mope', 'moral', 'moralist', 'morbid', 'mormon', 'morn', 'morph', 'morri', 'morrison', 'mostli', 'mother', 'mothman', 'motion', 'motiv', 'motorcycl', 'motown', 'mould', 'mount', 'mountain', 'mourn', 'mouth', 'move', 'movement', 'movi', 'moviego', 'moviemak', 'mr', 'ms', 'mtv', 'muccino', 'much', 'mud', 'muddl', 'mug', 'multi', 'multilay', 'multipl', 'multiplex', 'multitud', 'mumbo', 'mummi', 'mundan', 'murder', 'murki', 'murphi', 'musclefest', 'muse', 'music', 'musician', 'musket', 'musset', 'must', 'muster', 'musti', 'mutil', 'muy', 'myer', 'myrtl', 'mysteri', 'mystic', 'myth', 'mythic', 'nachtwey', 'nadir', 'nail', 'naipaul', 'nair', 'nake', 'name', 'naomi', 'napoleon', 'narc', 'narciss', 'narcissist', 'nari', 'narr', 'narrat', 'nasti', 'nastier', 'natali', 'nation', 'nationwid', 'nativ', 'natur', 'naturalist', 'natured', 'naturedli', 'naught', 'naughti', 'nausea', 'nauseat', 'navig', 'nazi', 'nazism', 'nba', 'ne', 'near', 'nearli', 'neat', 'neatli', 'nebrida', 'necessari', 'necessarili', 'neck', 'need', 'needi', 'needless', 'neg', 'negat', 'neglect', 'negoti', 'neither', 'nelson', 'nemesi', 'neo', 'neophyt', 'nephew', 'nerv', 'nervi', 'nervou', 'network', 'neuros', 'neurosi', 'neurot', 'never', 'neverland', 'nevertheless', 'new', 'newcastl', 'newcom', 'newfangl', 'news', 'newsreel', 'next', 'niblet', 'nice', 'nicest', 'nichola', 'nicholson', 'nickelodeon', 'nicklebi', 'nicol', 'nietzsch', 'nifti', 'night', 'nightmar', 'nine', 'nineti', 'niro', 'nixon', 'nobl', 'nobodi', 'noir', 'nois', 'nolan', 'nomin', 'non', 'nonchalleng', 'none', 'nonjudgment', 'nonsens', 'nonstop', 'noon', 'norm', 'norri', 'north', 'norton', 'norwegian', 'nose', 'nostalg', 'nostalgia', 'not', 'notabl', 'notat', 'notch', 'note', 'noth', 'notic', 'notion', 'notori', 'notwithstand', 'nourish', 'nouvel', 'novel', 'novelti', 'nowher', 'noyc', 'nuanc', 'nuclear', 'nuditi', 'nuld', 'numb', 'number', 'numbingli', 'numer', 'nuttgen', 'nutti', 'nymphett', 'object', 'oblivi', 'obnoxi', 'obscen', 'obscur', 'observ', 'obsess', 'obstacl', 'obviou', 'obvious', 'occasion', 'occup', 'occur', 'ocean', 'octan', 'odd', 'oddbal', 'oddest', 'odditi', 'oddli', 'ode', 'odor', 'odour', 'oedekerk', 'offbeat', 'offend', 'offens', 'offer', 'offic', 'oft', 'often', 'oftentim', 'oh', 'oili', 'ol', 'old', 'older', 'olivi', 'oliviera', 'omin', 'omit', 'one', 'onion', 'onlin', 'onscreen', 'ontivero', 'onto', 'oop', 'ooz', 'op', 'open', 'oper', 'opera', 'operandi', 'operat', 'opinion', 'opportun', 'oppos', 'opposit', 'oppress', 'opt', 'optim', 'optimist', 'option', 'opul', 'orang', 'orchard', 'order', 'ordin', 'ordinari', 'organ', 'orgasm', 'orgi', 'orient', 'origin', 'orlando', 'orwel', 'oscar', 'otar', 'other', 'otherwis', 'otherworldli', 'ought', 'out', 'outcom', 'outdat', 'outer', 'outing', 'outnumb', 'outpac', 'outrag', 'outshin', 'outsid', 'outstand', 'outtak', 'outweigh', 'overal', 'overbear', 'overblown', 'overboard', 'overcom', 'overcook', 'overeag', 'overexpos', 'overladen', 'overlap', 'overli', 'overload', 'overlong', 'overlook', 'overplay', 'overproduc', 'overrip', 'overrun', 'overshadow', 'overstay', 'overwhelm', 'overwritten', 'overwrought', 'owe', 'owen', 'own', 'ownership', 'ozpetek', 'pa', 'pablum', 'pabulum', 'pace', 'pacino', 'pack', 'pact', 'pad', 'padr', 'paean', 'page', 'paid', 'pain', 'painkil', 'paint', 'painter', 'painterli', 'pair', 'pale', 'palestinian', 'palett', 'palpabl', 'pamela', 'pan', 'pandemonium', 'pander', 'pant', 'paper', 'papin', 'par', 'parabl', 'parad', 'paradigm', 'paradiso', 'parallel', 'paralyz', 'parapsycholog', 'parent', 'pari', 'park', 'parker', 'parlor', 'parochi', 'parodi', 'pars', 'parsec', 'part', 'parti', 'particip', 'particular', 'particularli', 'partli', 'partner', 'partnership', 'pass', 'passabl', 'passag', 'passer', 'passion', 'passiv', 'past', 'pasta', 'pasti', 'pastich', 'pastri', 'pat', 'patch', 'patchwork', 'path', 'pathet', 'patho', 'patienc', 'patient', 'patric', 'patriot', 'paul', 'paula', 'paulett', 'paulin', 'paunchi', 'paus', 'pave', 'pawn', 'paxton', 'pay', 'payami', 'payback', 'payn', 'payoff', 'pb', 'peac', 'peculiar', 'pedestrian', 'pedigre', 'pedro', 'pee', 'peek', 'peekaboo', 'peel', 'peerlessli', 'peevish', 'pellington', 'penanc', 'penetr', 'penn', 'penotti', 'peopl', 'pep', 'pepper', 'per', 'peralta', 'percept', 'percuss', 'perdit', 'perfect', 'perfectli', 'perform', 'perhap', 'peril', 'period', 'perki', 'permeat', 'permiss', 'permit', 'perpetu', 'perri', 'persever', 'person', 'persona', 'perspect', 'persuas', 'pervas', 'pervers', 'peski', 'pessim', 'pessimist', 'pete', 'peter', 'petit', 'petti', 'pg', 'phantasm', 'phenomena', 'philip', 'phillip', 'philosoph', 'philosophi', 'phlegmat', 'phoenix', 'phonc', 'phone', 'phoni', 'photo', 'photograph', 'photographi', 'phrase', 'physic', 'pianist', 'piano', 'pic', 'piccoli', 'pick', 'picnic', 'picpu', 'pictur', 'piec', 'pierc', 'piffl', 'pile', 'pileup', 'pill', 'pimpl', 'pin', 'pinnacl', 'pinocchio', 'pinochet', 'piou', 'pipe', 'pipelin', 'piquant', 'pirat', 'piscopo', 'piss', 'pit', 'pitch', 'pitfal', 'piti', 'pixar', 'pizazz', 'place', 'placid', 'plagu', 'plain', 'plainli', 'plan', 'plane', 'planet', 'platter', 'plausibl', 'play', 'player', 'playwright', 'pleas', 'pleasant', 'pleasantli', 'pleaser', 'pleasingli', 'pleasur', 'plenti', 'plight', 'plod', 'plot', 'plotless', 'plotlin', 'plough', 'plu', 'plumb', 'plympton', 'poem', 'poet', 'poetic', 'poetri', 'poignanc', 'poignant', 'point', 'pointless', 'pois', 'poke', 'pokepi', 'pokey', 'poki', 'polanski', 'polem', 'polic', 'polici', 'polish', 'polit', 'pollut', 'polson', 'pompos', 'pompou', 'pond', 'ponder', 'pool', 'poor', 'poorli', 'pooti', 'pop', 'popcorn', 'popular', 'porki', 'porn', 'porou', 'portion', 'portrait', 'portray', 'portugues', 'pose', 'posit', 'possess', 'possibl', 'post', 'postcard', 'poster', 'postur', 'pot', 'potenc', 'potent', 'potenti', 'potti', 'pour', 'poverti', 'pow', 'power', 'powerpuff', 'practic', 'prais', 'prankster', 'pratfal', 'pray', 'preach', 'preachi', 'precari', 'preced', 'preciou', 'precis', 'precoci', 'predecessor', 'predica', 'predict', 'preemptiv', 'prefeminist', 'prefer', 'pregnant', 'prehistor', 'prejudic', 'premis', 'preposter', 'prescient', 'presenc', 'present', 'preserv', 'presid', 'press', 'presson', 'presum', 'pretend', 'pretens', 'pretent', 'pretenti', 'pretti', 'prevail', 'prevent', 'previou', 'price', 'priceless', 'pride', 'primari', 'primarili', 'prime', 'primer', 'princ', 'princess', 'princip', 'print', 'prism', 'prison', 'prissi', 'privat', 'privi', 'pro', 'probabl', 'probe', 'problem', 'problemat', 'proce', 'procedur', 'proceed', 'process', 'produc', 'product', 'profan', 'profession', 'profici', 'profil', 'profound', 'profoundli', 'profund', 'progress', 'project', 'prom', 'promenad', 'promin', 'promis', 'promisingli', 'prone', 'proof', 'propaganda', 'proper', 'properli', 'properti', 'propheci', 'proport', 'proprieti', 'prose', 'prospect', 'protagonist', 'protect', 'proud', 'prove', 'proven', 'provid', 'provinci', 'provoc', 'provok', 'prowess', 'prurient', 'pryce', 'pryor', 'pseudo', 'psych', 'psycho', 'psychodrama', 'psycholog', 'psychopath', 'psychot', 'public', 'publish', 'puddl', 'pueril', 'puff', 'pug', 'pulchritud', 'pull', 'pulp', 'pulpi', 'puls', 'pumpkin', 'pun', 'punch', 'punchier', 'punchlin', 'punish', 'punit', 'punk', 'puportedli', 'puppet', 'puppi', 'purdi', 'pure', 'purer', 'purist', 'purport', 'purportedli', 'purpos', 'purposeless', 'push', 'put', 'putrid', 'puzzl', 'pyrotechn', 'quaid', 'quaint', 'qualifi', 'qualiti', 'quash', 'queasi', 'queen', 'quentin', 'quest', 'question', 'quick', 'quicki', 'quickli', 'quicksand', 'quiet', 'quietli', 'quinn', 'quintessenti', 'quirki', 'quirkili', 'quit', 'quota', 'quotat', 'qut', 'rabbit', 'raccoon', 'race', 'rachel', 'racial', 'racism', 'racist', 'racket', 'radic', 'rag', 'rah', 'raimi', 'rain', 'rainbow', 'rais', 'ralph', 'ram', 'rambl', 'ramif', 'ramsay', 'randolph', 'random', 'rang', 'rank', 'ransack', 'rapid', 'rapidli', 'rapport', 'rare', 'rash', 'rat', 'rate', 'rather', 'ratliff', 'rattl', 'raucou', 'raunch', 'raunchi', 'ravag', 'ravel', 'raw', 'ray', 'razzl', 'reach', 'react', 'reaction', 'reactionari', 'read', 'readi', 'reaffirm', 'reagan', 'real', 'realism', 'realist', 'realiti', 'realiz', 'realli', 'realm', 'reap', 'reason', 'reassembl', 'reassur', 'rebel', 'rebellion', 'recal', 'receiv', 'recent', 'recip', 'reckless', 'recogn', 'recogniz', 'recommend', 'reconceptu', 'record', 'recount', 'recoveri', 'recreat', 'recycl', 'red', 'redeem', 'redefinit', 'redempt', 'rediscov', 'redneck', 'reduc', 'reduct', 'redund', 'reef', 'reek', 'reel', 'rees', 'refer', 'referenc', 'refin', 'refit', 'reflect', 'refract', 'refresh', 'refreshingli', 'refus', 'regain', 'regalia', 'regard', 'regardless', 'regener', 'reggio', 'reginald', 'region', 'regist', 'regret', 'regular', 'rehash', 'reigen', 'reign', 'rein', 'reject', 'rejigg', 'rel', 'relat', 'relationship', 'relay', 'releas', 'relentless', 'relentlessli', 'relev', 'reli', 'relianc', 'relic', 'relief', 'religi', 'reluct', 'remain', 'remak', 'remark', 'rembrandt', 'rememb', 'remind', 'reminisc', 'remot', 'remov', 'renaiss', 'render', 'renner', 'reno', 'renown', 'rent', 'rental', 'reparte', 'repeat', 'repeatedli', 'repel', 'repetit', 'replac', 'report', 'repres', 'repress', 'republ', 'reput', 'requiem', 'requir', 'requisit', 'rerun', 'rescu', 'research', 'resembl', 'resent', 'reserv', 'resid', 'resist', 'resolut', 'reson', 'resoundingli', 'respect', 'respit', 'respond', 'respons', 'rest', 'restat', 'restless', 'restraint', 'result', 'resurrect', 'retail', 'retain', 'retali', 'retold', 'retool', 'retread', 'retreat', 'retro', 'return', 'reunion', 'reveal', 'revel', 'revelatori', 'reveng', 'rever', 'reverber', 'reveri', 'review', 'revis', 'revisionist', 'revit', 'reviv', 'revolt', 'revolut', 'revolutionari', 'revuls', 'reward', 'rework', 'rewrit', 'rez', 'rhapsod', 'rhythm', 'ribcag', 'ribisi', 'rice', 'rich', 'richard', 'richer', 'richli', 'ridden', 'ride', 'ridicul', 'ridley', 'right', 'righteou', 'righteous', 'rigid', 'rigidli', 'rigor', 'rile', 'ring', 'ringsid', 'ringu', 'rinzler', 'rip', 'ripoff', 'ripper', 'rise', 'risk', 'ritchi', 'rival', 'rivalri', 'river', 'rivet', 'roach', 'road', 'roar', 'rob', 'robberi', 'robert', 'robinson', 'rock', 'rocki', 'rockumentari', 'rodan', 'rodrigu', 'roger', 'roh', 'roil', 'role', 'roll', 'roller', 'rollerbal', 'rollick', 'roman', 'romanc', 'romanek', 'romant', 'romantic', 'romp', 'room', 'root', 'rorschach', 'rosa', 'rose', 'rosemari', 'rot', 'rote', 'rotoscop', 'rotten', 'roug', 'rough', 'roughag', 'roughli', 'roughshod', 'round', 'roundelay', 'rous', 'routin', 'row', 'rowdi', 'roy', 'rrb', 'rubbish', 'rubbo', 'rubin', 'rudd', 'rude', 'rudi', 'rueful', 'rug', 'rugrat', 'ruh', 'ruin', 'rule', 'rumbl', 'rumin', 'rumor', 'run', 'runaway', 'runner', 'rush', 'russel', 'russian', 'rustic', 'rut', 'ruthless', 'ruthlessli', 'ryan', 'ryosuk', 'saccharin', 'sacrif', 'sacrific', 'sad', 'saddam', 'saddl', 'sade', 'sadist', 'sadli', 'safe', 'sag', 'saga', 'said', 'sailor', 'sake', 'salari', 'sall', 'salma', 'salt', 'salvag', 'sam', 'samira', 'sampl', 'samurai', 'sanctimoni', 'sand', 'sandbox', 'sandeman', 'sandler', 'sandra', 'sane', 'sanguin', 'sanitis', 'santa', 'sap', 'sappi', 'sara', 'sarah', 'sat', 'satin', 'satir', 'satisfact', 'satisfi', 'satisfyingli', 'sauci', 'savag', 'save', 'savor', 'savvi', 'saw', 'say', 'scald', 'scale', 'scar', 'scarc', 'scare', 'scari', 'scarier', 'scarili', 'scath', 'scatter', 'scenario', 'scene', 'sceneri', 'schaeffer', 'schemat', 'scherfig', 'schiffer', 'schindler', 'schizo', 'schizophrenia', 'schlock', 'schlocki', 'schmaltzi', 'schmidt', 'schmuck', 'schneider', 'schnitzler', 'scholar', 'school', 'schooler', 'schrader', 'schumach', 'schwentk', 'sci', 'scienc', 'scientif', 'scientist', 'scoobi', 'scooter', 'scope', 'score', 'scorn', 'scorpion', 'scorses', 'scotland', 'scott', 'scottish', 'scous', 'scrapbook', 'scrape', 'scratch', 'scream', 'screed', 'screen', 'screenplay', 'screenwrit', 'screw', 'scribe', 'script', 'scripter', 'scroog', 'scruffi', 'scrutini', 'scummi', 'sea', 'seagal', 'seam', 'seamless', 'sean', 'search', 'seasid', 'season', 'seat', 'seattl', 'second', 'secondari', 'secondhand', 'secret', 'secretari', 'section', 'seduct', 'see', 'seed', 'seek', 'seem', 'seemingli', 'seen', 'seesaw', 'seinfeld', 'select', 'self', 'sell', 'selv', 'semi', 'send', 'sens', 'sensat', 'senseless', 'sensibl', 'sensit', 'sensual', 'sent', 'sentenc', 'sentiment', 'sentimentalist', 'separ', 'sepia', 'sequel', 'sequenc', 'serb', 'seren', 'sergio', 'seri', 'serial', 'seriocom', 'seriou', 'serious', 'sermon', 'serv', 'servant', 'servic', 'session', 'set', 'seth', 'settl', 'setup', 'seven', 'sever', 'sew', 'sex', 'sexi', 'sexist', 'sexploit', 'sexual', 'shackl', 'shadow', 'shadowi', 'shafer', 'shaggi', 'shainberg', 'shake', 'shakespear', 'shakespearean', 'shallow', 'sham', 'shame', 'shameless', 'shanghai', 'shankman', 'shape', 'shapeless', 'shapiro', 'share', 'shark', 'sharp', 'sharper', 'shatter', 'shave', 'sheer', 'sheerli', 'sheet', 'shekhar', 'shelf', 'shell', 'shellshock', 'shelv', 'sheridan', 'shift', 'shine', 'shiner', 'shini', 'ship', 'shirley', 'shirt', 'shiver', 'shock', 'shocker', 'shockingli', 'shockwav', 'shoddi', 'shoot', 'shootout', 'shop', 'shore', 'short', 'shortcom', 'shorter', 'shortest', 'shot', 'shoulder', 'shout', 'show', 'showcas', 'showgirl', 'shown', 'showtim', 'shrapnel', 'shred', 'shrek', 'shrewdli', 'shriek', 'shrill', 'shtick', 'shuck', 'shyamalan', 'sibl', 'sica', 'sick', 'sickli', 'side', 'sided', 'sidekick', 'sideshow', 'sidewalk', 'sidey', 'sieg', 'siegel', 'sight', 'sign', 'signal', 'signific', 'significantli', 'silberl', 'silenc', 'silent', 'silli', 'sillier', 'silver', 'similar', 'similarli', 'simmer', 'simon', 'simpl', 'simplemind', 'simpli', 'simplic', 'simplist', 'simpson', 'simultan', 'sin', 'sinc', 'sincer', 'sing', 'singer', 'singh', 'singl', 'singularli', 'sinist', 'sink', 'sip', 'sister', 'sisterhood', 'sit', 'sitcom', 'sitcomishli', 'situat', 'six', 'sixti', 'size', 'sizzl', 'skateboard', 'skeleton', 'sketch', 'sketchi', 'skew', 'skewer', 'skill', 'skim', 'skimpi', 'skin', 'skinni', 'skip', 'skit', 'skittish', 'skunk', 'sky', 'slack', 'slacker', 'slap', 'slapdash', 'slapstick', 'slash', 'slasher', 'slather', 'slaveri', 'sleaz', 'sledgehamm', 'sleek', 'sleep', 'sleeper', 'sleepless', 'sleev', 'slender', 'sli', 'slice', 'slick', 'slide', 'slight', 'slightest', 'slightli', 'slim', 'slip', 'slipperi', 'sliver', 'slo', 'slobber', 'sloppi', 'sloppili', 'slow', 'slowli', 'sluggish', 'slum', 'slummer', 'slur', 'slyli', 'smack', 'smackdown', 'small', 'smart', 'smarter', 'smartest', 'smartli', 'smash', 'smell', 'smile', 'smirk', 'smith', 'smoke', 'smoki', 'smoochi', 'smooth', 'smoothli', 'smug', 'snake', 'snap', 'snapshot', 'snazzi', 'sneaki', 'snicker', 'sniffl', 'snobberi', 'snow', 'snub', 'snuck', 'soak', 'soap', 'soar', 'sober', 'soccer', 'social', 'societ', 'societi', 'sociolog', 'sodden', 'soderbergh', 'sofia', 'soft', 'soggi', 'solari', 'soldier', 'sole', 'solemn', 'solid', 'solidli', 'solips', 'solo', 'solondz', 'solut', 'solv', 'somber', 'somebodi', 'somehow', 'someon', 'someplac', 'someth', 'sometim', 'somewhat', 'somewher', 'son', 'song', 'sonnenfeld', 'sonni', 'soon', 'sooth', 'sophi', 'sophist', 'sophomor', 'soprano', 'sorri', 'sorrow', 'sort', 'sorvino', 'sought', 'soul', 'soulless', 'sound', 'soundtrack', 'sour', 'sourc', 'south', 'southern', 'space', 'spaceship', 'spacey', 'spade', 'spader', 'spain', 'spald', 'spall', 'span', 'spare', 'spark', 'sparkl', 'spat', 'spawn', 'speak', 'spear', 'speci', 'special', 'specif', 'spectacl', 'spectacular', 'spectacularli', 'specul', 'speed', 'spell', 'spend', 'spent', 'spi', 'spider', 'spielberg', 'spiffi', 'spike', 'spin', 'spinner', 'spiral', 'spirit', 'spiritu', 'spit', 'spite', 'splash', 'splashi', 'splendid', 'splendidli', 'splendor', 'splendour', 'splice', 'split', 'spontan', 'spoof', 'spooki', 'sporad', 'sport', 'spot', 'spotti', 'spous', 'spousal', 'spout', 'spread', 'spri', 'spring', 'sprout', 'squabbl', 'squad', 'squander', 'squar', 'squash', 'squeez', 'squirm', 'squirt', 'stab', 'staci', 'stack', 'stage', 'stagey', 'stagger', 'staggeringli', 'stagi', 'stagnat', 'staid', 'stain', 'stale', 'stallon', 'stamina', 'stammer', 'stamp', 'stanc', 'stand', 'standard', 'standout', 'stanley', 'star', 'stare', 'stark', 'starri', 'start', 'startl', 'state', 'statement', 'statham', 'static', 'station', 'statu', 'statur', 'stay', 'steadfast', 'steal', 'steam', 'steep', 'steer', 'stein', 'stench', 'step', 'stepdad', 'stephen', 'stereotyp', 'steril', 'steve', 'steven', 'stevenon', 'stewart', 'stick', 'stiff', 'stifl', 'still', 'stilt', 'stimul', 'sting', 'stink', 'stinker', 'stir', 'stitch', 'stock', 'stockwel', 'stodgi', 'stoke', 'stomach', 'stomp', 'stone', 'stoner', 'stoop', 'stop', 'stoppard', 'store', 'stori', 'storm', 'stormi', 'stortel', 'storylin', 'storytel', 'straddl', 'straight', 'straightforward', 'strain', 'strand', 'strang', 'stranger', 'strangest', 'strangl', 'strateg', 'strategi', 'stray', 'streak', 'stream', 'streamlin', 'street', 'strength', 'strenuous', 'stretch', 'strict', 'strictli', 'strident', 'strike', 'string', 'strip', 'stripe', 'strive', 'stroke', 'strong', 'strongest', 'strongli', 'struck', 'structur', 'struggl', 'stuart', 'student', 'studi', 'studio', 'stuf', 'stuff', 'stuffi', 'stumbl', 'stun', 'stunt', 'stupid', 'sturm', 'stutter', 'style', 'stylish', 'stylist', 'styliz', 'stymi', 'styx', 'suaviti', 'sub', 'subcultur', 'subject', 'submerg', 'subplot', 'subscript', 'subsid', 'substanc', 'substitut', 'subtext', 'subtitl', 'subtl', 'subtlest', 'subtleti', 'subtli', 'suburban', 'subvers', 'subzero', 'succe', 'succeed', 'success', 'succumb', 'suck', 'sucker', 'sudden', 'sudsi', 'suey', 'suffer', 'suffic', 'suffoc', 'sugar', 'sugari', 'sugarman', 'suggest', 'suit', 'suitabl', 'sulki', 'sum', 'summer', 'summertim', 'sumptuou', 'sun', 'sundanc', 'sunday', 'sung', 'sunni', 'sunshin', 'super', 'superb', 'superbl', 'superfici', 'superflu', 'superior', 'superman', 'supernatur', 'superstar', 'suppli', 'support', 'suppos', 'suprem', 'sure', 'surefir', 'surest', 'surf', 'surfac', 'surfacey', 'surg', 'surgeon', 'surpris', 'surprisingli', 'surreal', 'surrend', 'surround', 'survey', 'surviv', 'survivor', 'suscept', 'suspect', 'suspend', 'suspens', 'sustain', 'swagger', 'swallow', 'swath', 'sway', 'swear', 'sweat', 'swedish', 'sweep', 'sweet', 'sweetest', 'sweetli', 'swept', 'swiftli', 'swim', 'swimfan', 'swing', 'swirl', 'switch', 'sword', 'swordfight', 'swung', 'sy', 'sychowski', 'sylvi', 'symbiot', 'symbol', 'sympath', 'sympathet', 'sympathi', 'synthet', 'system', 'systemat', 'szpilman', 'tabl', 'tabloid', 'taboo', 'tack', 'tacki', 'tackl', 'tact', 'tadpol', 'taglin', 'tailor', 'takashi', 'take', 'taken', 'tale', 'talent', 'talk', 'talki', 'tall', 'tambor', 'tang', 'tango', 'tank', 'tap', 'tape', 'tar', 'tarantino', 'tarantula', 'tardier', 'target', 'tarkovski', 'tartakovski', 'task', 'tast', 'tasteless', 'tasti', 'tat', 'tatter', 'tattoo', 'taut', 'taverni', 'tax', 'taxicab', 'taylor', 'taymor', 'tea', 'team', 'tear', 'tech', 'techi', 'technic', 'techniqu', 'techno', 'technolog', 'teddi', 'tediou', 'tedious', 'teem', 'teen', 'teenag', 'teendom', 'teeth', 'telegraph', 'telemarket', 'teleprompt', 'telescop', 'televis', 'tell', 'temper', 'templ', 'tempor', 'tempt', 'ten', 'tenaci', 'tend', 'tender', 'tenor', 'tens', 'tension', 'tent', 'tenth', 'tepid', 'tequila', 'term', 'terri', 'terribl', 'terrif', 'terrifi', 'territori', 'terror', 'terrorist', 'test', 'testament', 'testosteron', 'testud', 'texan', 'textbook', 'textur', 'th', 'thank', 'theater', 'theatr', 'theatric', 'themat', 'theme', 'theori', 'therapi', 'thesp', 'thick', 'thieveri', 'thin', 'thing', 'think', 'thinli', 'third', 'thirti', 'thoma', 'thornberri', 'thoroughfar', 'thoroughli', 'thou', 'though', 'thought', 'thoughtless', 'threadbar', 'threat', 'threaten', 'three', 'threshold', 'threw', 'thrill', 'thriller', 'thrillingli', 'throat', 'throughout', 'throw', 'throwback', 'thrown', 'thrust', 'thud', 'thumb', 'thump', 'thumpingli', 'tian', 'tick', 'ticket', 'tide', 'tie', 'tier', 'tight', 'time', 'timeless', 'timer', 'timid', 'ting', 'tini', 'tinni', 'tinsel', 'tinseltown', 'tint', 'tirad', 'tire', 'tiresom', 'tissu', 'tit', 'titil', 'titl', 'titu', 'titular', 'toast', 'toback', 'tock', 'today', 'todd', 'toe', 'togeth', 'toilet', 'told', 'toler', 'tolkien', 'tolstoy', 'tom', 'tomcat', 'tomorrow', 'ton', 'tone', 'tongu', 'tonto', 'took', 'tool', 'toolbag', 'toothless', 'tootsi', 'top', 'topic', 'tori', 'torment', 'tornator', 'toro', 'torpedo', 'tortur', 'tosca', 'toss', 'total', 'touch', 'tough', 'tougher', 'tout', 'toward', 'town', 'toxic', 'tract', 'trade', 'trademark', 'tradit', 'traffic', 'tragedi', 'tragic', 'trail', 'trailer', 'train', 'trait', 'tranquil', 'transcend', 'transform', 'transit', 'translat', 'transpar', 'transport', 'trap', 'trash', 'trashi', 'travail', 'travel', 'travi', 'tread', 'treasur', 'treat', 'treatment', 'tree', 'trek', 'trembl', 'tremor', 'tri', 'trial', 'triangl', 'tribut', 'trick', 'tricki', 'trickster', 'trifl', 'trim', 'triniti', 'trip', 'tripe', 'tripl', 'trite', 'triumph', 'triumphant', 'triumphantli', 'trivial', 'troll', 'trombon', 'trope', 'trot', 'troubl', 'trove', 'truck', 'true', 'truest', 'truli', 'trumpet', 'trust', 'truth', 'tryingli', 'tsai', 'tuba', 'tufano', 'tug', 'tumblewe', 'tumultu', 'tune', 'tunisian', 'tunnel', 'tunney', 'turd', 'turf', 'turgid', 'turmoil', 'turn', 'turntabl', 'turntablist', 'tux', 'tuxedo', 'tv', 'twaddl', 'twelv', 'twenti', 'twentysometh', 'twice', 'twinki', 'twinkl', 'twinkli', 'twist', 'twisti', 'twitchi', 'two', 'twohi', 'tyco', 'tykwer', 'type', 'typic', 'ugli', 'uglier', 'uk', 'ultim', 'ultra', 'um', 'umpteenth', 'un', 'unabash', 'unabl', 'unaccept', 'unadulter', 'unaffect', 'unambiti', 'unapologet', 'unbear', 'unbeliev', 'unblink', 'unbreak', 'uncanni', 'unchart', 'uncinemat', 'uncl', 'unclear', 'unclutt', 'uncomfort', 'uncompromis', 'unconcern', 'uncondit', 'unconvent', 'unconvinc', 'uncov', 'uncut', 'und', 'undemand', 'undeni', 'underbelli', 'undercurr', 'undercut', 'underdog', 'underestim', 'undergo', 'underground', 'underlay', 'underli', 'undermin', 'undernourish', 'underplay', 'underrehears', 'underscor', 'underst', 'understand', 'undertak', 'undertaken', 'underton', 'underutil', 'underventil', 'underwear', 'undeserv', 'undetermin', 'undo', 'undon', 'undramat', 'uneas', 'uneasi', 'uneasili', 'unendur', 'unentertain', 'uner', 'unev', 'uneven', 'unexcept', 'unexpect', 'unexpectedli', 'unexplor', 'unfairli', 'unfaith', 'unfamiliar', 'unflapp', 'unflinch', 'unfocus', 'unfold', 'unforc', 'unfortun', 'unfulfil', 'unfunni', 'unguard', 'unhidden', 'unhurri', 'uniformli', 'unimagin', 'unimpress', 'uninspir', 'unintent', 'uninterest', 'uniqu', 'unit', 'univac', 'univers', 'unknown', 'unless', 'unlik', 'unlimit', 'unmemor', 'unmention', 'unmistak', 'unnam', 'unnecessari', 'unnerv', 'unorigin', 'unorthodox', 'unpaid', 'unpleas', 'unpleasantli', 'unpredict', 'unprepar', 'unpretenti', 'unravel', 'unreach', 'unreal', 'unrealist', 'unrepentantli', 'unruli', 'unsatisfactorili', 'unsatisfi', 'unseen', 'unsentiment', 'unsettl', 'unsophist', 'unspool', 'unsteadi', 'unsubtl', 'unsurpris', 'unsuspect', 'unsympathet', 'unthink', 'untidili', 'unusu', 'unwari', 'unwatch', 'unwieldi', 'up', 'upbeat', 'updat', 'uplift', 'upload', 'upon', 'upper', 'upscal', 'upset', 'upsid', 'uptight', 'urban', 'urg', 'urgenc', 'urgent', 'us', 'use', 'useless', 'usher', 'usual', 'usurp', 'utah', 'utter', 'utterli', 'vacuou', 'vacuum', 'vagu', 'vain', 'vainli', 'valiant', 'valiantli', 'valid', 'valley', 'valu', 'valuabl', 'vampir', 'van', 'vanish', 'vaniti', 'vapid', 'variat', 'varieti', 'variou', 'vast', 'vat', 'vaudevil', 'veer', 'veggi', 'veggietal', 'vehicl', 'veil', 'veloc', 'venic', 'vent', 'ver', 'verbal', 'verdict', 'verdu', 'verg', 'vers', 'version', 'versu', 'vertic', 'verv', 'veteran', 'vh', 'via', 'viabil', 'vibranc', 'vibrant', 'vice', 'victim', 'victor', 'victori', 'video', 'videodrom', 'vidgam', 'vietnam', 'vietnames', 'view', 'viewer', 'vigil', 'vignett', 'vile', 'villain', 'villeneuv', 'vin', 'vincent', 'vintag', 'violenc', 'violent', 'virtu', 'virtual', 'viscer', 'visibl', 'vision', 'visionari', 'visit', 'visual', 'vital', 'vittorio', 'viva', 'vivid', 'vividli', 'voic', 'volatil', 'volletta', 'von', 'vonnegut', 'vote', 'voyeur', 'vs', 'vulgar', 'vulner', 'wacki', 'wade', 'wahlberg', 'wait', 'wake', 'wal', 'walk', 'wall', 'wallac', 'wallet', 'wallflow', 'wallop', 'wallow', 'walter', 'waltz', 'wan', 'wane', 'wannab', 'want', 'war', 'ward', 'warden', 'wari', 'warm', 'warmest', 'warmth', 'warn', 'warren', 'warrior', 'wartim', 'wash', 'washi', 'washington', 'washout', 'wast', 'watch', 'watchabl', 'water', 'waterboy', 'watercolor', 'waterlog', 'watt', 'wave', 'wax', 'way', 'waydowntown', 'wayn', 'wayward', 'we', 'weak', 'weakli', 'wealthi', 'weaponri', 'wear', 'wearer', 'weasel', 'web', 'webcast', 'wed', 'wedg', 'wednesday', 'week', 'weekend', 'weight', 'weighti', 'weil', 'weimar', 'weinstein', 'weird', 'weirder', 'weirdli', 'weirdo', 'welcom', 'well', 'welsh', 'wen', 'wendigo', 'went', 'wertmul', 'west', 'westbrook', 'western', 'whale', 'whatev', 'whatsoev', 'wheel', 'whenev', 'wherein', 'wherev', 'whet', 'whether', 'whiffl', 'whimper', 'whimsi', 'whimsic', 'whini', 'whip', 'whir', 'white', 'whitewash', 'whodunit', 'whole', 'wholesom', 'wholli', 'whoop', 'whoosh', 'whose', 'wickedli', 'wide', 'widen', 'widescreen', 'widget', 'widow', 'widowmak', 'wiel', 'wife', 'wig', 'wilco', 'wild', 'wilder', 'wildest', 'wildli', 'will', 'willi', 'william', 'willing', 'willingli', 'wilson', 'win', 'wind', 'window', 'windtalk', 'wine', 'wing', 'wink', 'winner', 'winter', 'wintri', 'wire', 'wisdom', 'wise', 'wisecrack', 'wisegirl', 'wiseman', 'wiser', 'wish', 'wishi', 'wisp', 'wist', 'wit', 'witch', 'witherspoon', 'within', 'without', 'witless', 'wittgenstein', 'witti', 'wizardri', 'wladyslaw', 'wo', 'woe', 'woman', 'women', 'wonder', 'wondrou', 'wondrous', 'wong', 'woo', 'wood', 'woodi', 'word', 'wordi', 'work', 'workabl', 'workaday', 'worker', 'workman', 'workmanlik', 'workout', 'workshop', 'world', 'worn', 'worri', 'wors', 'worship', 'worst', 'worth', 'worthi', 'worthless', 'worthwhil', 'would', 'wound', 'woven', 'wow', 'wrap', 'wreak', 'wrench', 'wrestl', 'wretchedli', 'wri', 'write', 'writer', 'written', 'wrong', 'wrote', 'wrought', 'wryli', 'wyman', 'xerox', 'ya', 'yahoo', 'yard', 'yarn', 'yawn', 'ye', 'year', 'yearn', 'yell', 'yellow', 'yesterday', 'yesteryear', 'yet', 'york', 'yorker', 'young', 'younger', 'youth', 'yuppi', 'zani', 'zaza', 'zeal', 'zelda', 'zemecki', 'zero', 'zhang', 'zhuangzhuang', 'zing', 'zinger', 'zip', 'zone']\n"
     ]
    }
   ],
   "source": [
    "print(len(cv.get_feature_names()))\n",
    "print(cv.get_feature_names())"
   ]
  },
  {
   "cell_type": "markdown",
   "metadata": {},
   "source": [
    "**Step -4: Spliting data into traning and testing set**"
   ]
  },
  {
   "cell_type": "code",
   "execution_count": 14,
   "metadata": {},
   "outputs": [
    {
     "name": "stderr",
     "output_type": "stream",
     "text": [
      "/home/saisrikar/anaconda3/lib/python3.6/site-packages/sklearn/cross_validation.py:41: DeprecationWarning: This module was deprecated in version 0.18 in favor of the model_selection module into which all the refactored classes and functions are moved. Also note that the interface of the new CV iterators are different from that of this module. This module will be removed in 0.20.\n",
      "  \"This module will be removed in 0.20.\", DeprecationWarning)\n"
     ]
    }
   ],
   "source": [
    "from sklearn.cross_validation import train_test_split"
   ]
  },
  {
   "cell_type": "code",
   "execution_count": 15,
   "metadata": {},
   "outputs": [],
   "source": [
    "x_train, x_test, y_train, y_test = train_test_split(X,y, test_size = 0.2,\n",
    "                                                   random_state =0 )"
   ]
  },
  {
   "cell_type": "code",
   "execution_count": 16,
   "metadata": {},
   "outputs": [
    {
     "data": {
      "text/plain": [
       "((2101, 6078), (526, 6078), (2101,), (526,))"
      ]
     },
     "execution_count": 16,
     "metadata": {},
     "output_type": "execute_result"
    }
   ],
   "source": [
    "x_train.shape, x_test.shape, y_train.shape, y_test.shape"
   ]
  },
  {
   "cell_type": "markdown",
   "metadata": {},
   "source": [
    "**Step -5: Building Machine Learning Mode -> MultinomialNB, GaussianNB**"
   ]
  },
  {
   "cell_type": "code",
   "execution_count": 17,
   "metadata": {},
   "outputs": [],
   "source": [
    "from sklearn.naive_bayes import MultinomialNB, GaussianNB"
   ]
  },
  {
   "cell_type": "code",
   "execution_count": 18,
   "metadata": {},
   "outputs": [],
   "source": [
    "model_M = MultinomialNB() # alpha is tuning parameter\n",
    "model_G = GaussianNB()"
   ]
  },
  {
   "cell_type": "code",
   "execution_count": 19,
   "metadata": {},
   "outputs": [],
   "source": [
    "model_M.fit(x_train,y_train)\n",
    "model_G.fit(x_train,y_train)\n",
    "y_pred_M = model_M.predict(x_test)\n",
    "y_pred_G = model_G.predict(x_test)"
   ]
  },
  {
   "cell_type": "markdown",
   "metadata": {},
   "source": [
    "**Step -6 Evaluation Model**"
   ]
  },
  {
   "cell_type": "code",
   "execution_count": 20,
   "metadata": {},
   "outputs": [],
   "source": [
    "from sklearn.metrics import confusion_matrix, classification_report"
   ]
  },
  {
   "cell_type": "code",
   "execution_count": 21,
   "metadata": {},
   "outputs": [],
   "source": [
    "cm_M = confusion_matrix(y_test,y_pred_M)\n",
    "cm_G = confusion_matrix(y_test,y_pred_G)\n",
    "\n",
    "cr_M = classification_report(y_test,y_pred_M)\n",
    "cr_G = classification_report(y_test, y_pred_G)"
   ]
  },
  {
   "cell_type": "code",
   "execution_count": 22,
   "metadata": {},
   "outputs": [],
   "source": [
    "import seaborn as sns\n",
    "import matplotlib.pyplot as plt"
   ]
  },
  {
   "cell_type": "code",
   "execution_count": 23,
   "metadata": {},
   "outputs": [
    {
     "data": {
      "image/png": "[encoded data removed]",
      "text/plain": [
       "<matplotlib.figure.Figure at 0x7fa0e4218a90>"
      ]
     },
     "metadata": {},
     "output_type": "display_data"
    },
    {
     "data": {
      "image/png": "[encoded data removed]",
      "text/plain": [
       "<matplotlib.figure.Figure at 0x7fa0e41d4e48>"
      ]
     },
     "metadata": {},
     "output_type": "display_data"
    },
    {
     "name": "stdout",
     "output_type": "stream",
     "text": [
      "             precision    recall  f1-score   support\n",
      "\n",
      "          0       0.56      0.24      0.33        63\n",
      "          1       0.42      0.45      0.43       152\n",
      "          2       0.24      0.15      0.19        92\n",
      "          3       0.39      0.55      0.46       150\n",
      "          4       0.37      0.35      0.36        69\n",
      "\n",
      "avg / total       0.39      0.39      0.37       526\n",
      "\n",
      "==================================================\n",
      "             precision    recall  f1-score   support\n",
      "\n",
      "          0       0.19      0.22      0.20        63\n",
      "          1       0.40      0.34      0.37       152\n",
      "          2       0.17      0.18      0.17        92\n",
      "          3       0.39      0.35      0.37       150\n",
      "          4       0.24      0.30      0.27        69\n",
      "\n",
      "avg / total       0.31      0.30      0.30       526\n",
      "\n"
     ]
    }
   ],
   "source": [
    "sns.heatmap(cm_M,annot=True,cmap='summer')\n",
    "plt.title('Mutlinomial NB')\n",
    "plt.show()\n",
    "sns.heatmap(cm_G,annot=True,cmap='winter')\n",
    "plt.title('Gaussian NB')\n",
    "plt.show()\n",
    "print(cr_M)\n",
    "print('='*50)\n",
    "print(cr_G)"
   ]
  }
 ],
 "metadata": {
  "kernelspec": {
   "display_name": "Python 3",
   "language": "python",
   "name": "python3"
  },
  "language_info": {
   "codemirror_mode": {
    "name": "ipython",
    "version": 3
   },
   "file_extension": ".py",
   "mimetype": "text/x-python",
   "name": "python",
   "nbconvert_exporter": "python",
   "pygments_lexer": "ipython3",
   "version": "3.6.4"
  }
 },
 "nbformat": 4,
 "nbformat_minor": 2
}
